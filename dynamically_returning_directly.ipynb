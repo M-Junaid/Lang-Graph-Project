{
  "nbformat": 4,
  "nbformat_minor": 0,
  "metadata": {
    "colab": {
      "provenance": []
    },
    "kernelspec": {
      "name": "python3",
      "display_name": "Python 3"
    },
    "language_info": {
      "name": "python"
    }
  },
  "cells": [
    {
      "cell_type": "markdown",
      "source": [
        "# Introduction\n",
        " we'll build a custom chat executor that allows a Language Learning Model (LLM) to dynamically decide whether to return the result of a tool call as the final answer or to process it further before responding. This approach is particularly useful when you have tools that can generate acceptable final answers on their own, and you want the LLM to intelligently determine when this is the case.\n",
        "\n",
        "The example builds upon the base chat executor, so it's recommended to familiarize yourself with that before proceeding. We'll be creating the agent from scratch for transparency, though similar functionality can be achieved using the create_react_agent constructor provided by LangChain.\n",
        "\n",
        "By following this guide, you'll learn how to:\n",
        "\n",
        "1.  Set up the necessary tools and APIs.\n",
        "2. Define a custom tool with additional parameters.\n",
        "3. Implement an agent state and a state graph to manage the conversation flow.\n",
        "4. Build a chat agent that can decide when to finalize a response based on the  output of tool invocations.\n",
        "\n",
        "This hands-on example will give you a deeper understanding of how to build flexible and context-aware chat agents using LangChain and LangGraph."
      ],
      "metadata": {
        "id": "R7nuVugToht7"
      }
    },
    {
      "cell_type": "markdown",
      "source": [
        "# 1. Setup and Installation"
      ],
      "metadata": {
        "id": "7Q_fm2b8wlSD"
      }
    },
    {
      "cell_type": "code",
      "source": [
        "%%capture --no-stderr\n",
        "%pip install --quiet -U langgraph langchain langchain_openai tavily-python"
      ],
      "metadata": {
        "id": "LVL_qSl6wgaD"
      },
      "execution_count": null,
      "outputs": []
    },
    {
      "cell_type": "markdown",
      "source": [
        "# Code Explanation\n",
        "* Purpose: This block installs the necessary Python packages:\n",
        "  * langgraph: For creating and managing graphs in LangChain.\n",
        "  * langchain: For working with LLMs and their tools.\n",
        "  * langchain_openai: Specifically for integrating OpenAI models.\n",
        "tavily-python: For using the Tavily search tool."
      ],
      "metadata": {
        "id": "Sl5DJC0rwrNK"
      }
    },
    {
      "cell_type": "code",
      "source": [
        "import getpass\n",
        "import os\n",
        "\n",
        "os.environ[\"OPENAI_API_KEY\"] = \"\"\n",
        "os.environ[\"TAVILY_API_KEY\"] = \"\"\n",
        "os.environ[\"LANGCHAIN_TRACING_V2\"] = \"true\"\n",
        "os.environ[\"LANGCHAIN_API_KEY\"] = \"\"\n"
      ],
      "metadata": {
        "id": "5XvY4o5AwgSW"
      },
      "execution_count": null,
      "outputs": []
    },
    {
      "cell_type": "markdown",
      "source": [
        "* Purpose: This block sets up the environment variables for the OpenAI and Tavily API keys. These keys are essential for authenticating your requests to these services."
      ],
      "metadata": {
        "id": "sTDFuBm1xSAu"
      }
    },
    {
      "cell_type": "code",
      "source": [],
      "metadata": {
        "id": "D5b3GunPwgIt"
      },
      "execution_count": null,
      "outputs": []
    },
    {
      "cell_type": "markdown",
      "source": [
        "# 2. Setting Up the Tools\n",
        "We will first define the tools we want to use. For this simple example, we will use a built-in search tool via Tavily. However, it is really easy to create your own tools - see documentation here on how to do that."
      ],
      "metadata": {
        "id": "QZOVlSlTxZzB"
      }
    },
    {
      "cell_type": "code",
      "source": [
        "from langchain_core.pydantic_v1 import BaseModel, Field  # Import BaseModel and Field from Pydantic, used for data validation and model creation\n",
        "\n",
        "# Define a class called SearchTool that inherits from BaseModel\n",
        "class SearchTool(BaseModel):\n",
        "    \"\"\"A model representing an online search tool, with an option for direct result return.\"\"\"\n",
        "\n",
        "    # Define a field 'query' which is a string, representing the search query\n",
        "    query: str = Field(description=\"The search query to look up online\")\n",
        "\n",
        "    # Define a field 'return_direct' which is a boolean, determining whether the result is returned directly\n",
        "    return_direct: bool = Field(\n",
        "        description=\"Indicates if the result should be returned directly to the user without processing or viewing by the agent\",\n",
        "        default=False,  # Set the default value to False, meaning the result is not returned directly unless specified\n",
        "    )\n"
      ],
      "metadata": {
        "id": "VbiSxcZVwf9i"
      },
      "execution_count": null,
      "outputs": []
    },
    {
      "cell_type": "markdown",
      "source": [
        "# Code Explanation\n",
        "The SearchTool class is a data model used to define the structure for an online search tool. It has two attributes:\n",
        "* query: A string representing the search query.\n",
        "* return_direct: A boolean indicating whether the search result should be returned directly to the user without any additional processing or oversight.\n",
        "\n",
        "\n",
        "The BaseModel from Pydantic ensures that these fields are validated and serialized correctly, making it easier to work with structured data in Python."
      ],
      "metadata": {
        "id": "Eo4ZbdiMxfmu"
      }
    },
    {
      "cell_type": "code",
      "source": [],
      "metadata": {
        "id": "8BfE3YgfAeqg"
      },
      "execution_count": null,
      "outputs": []
    },
    {
      "cell_type": "code",
      "source": [
        "!pip install langchain langchain-community"
      ],
      "metadata": {
        "colab": {
          "base_uri": "https://localhost:8080/"
        },
        "id": "wL_jK6JAeaQD",
        "outputId": "e38e63ac-5608-442d-aaa2-20f54949cbb1"
      },
      "execution_count": null,
      "outputs": [
        {
          "output_type": "stream",
          "name": "stdout",
          "text": [
            "Requirement already satisfied: langchain in /usr/local/lib/python3.10/dist-packages (0.2.15)\n",
            "Requirement already satisfied: langchain-community in /usr/local/lib/python3.10/dist-packages (0.2.14)\n",
            "Requirement already satisfied: PyYAML>=5.3 in /usr/local/lib/python3.10/dist-packages (from langchain) (6.0.2)\n",
            "Requirement already satisfied: SQLAlchemy<3,>=1.4 in /usr/local/lib/python3.10/dist-packages (from langchain) (2.0.32)\n",
            "Requirement already satisfied: aiohttp<4.0.0,>=3.8.3 in /usr/local/lib/python3.10/dist-packages (from langchain) (3.10.5)\n",
            "Requirement already satisfied: async-timeout<5.0.0,>=4.0.0 in /usr/local/lib/python3.10/dist-packages (from langchain) (4.0.3)\n",
            "Requirement already satisfied: langchain-core<0.3.0,>=0.2.35 in /usr/local/lib/python3.10/dist-packages (from langchain) (0.2.36)\n",
            "Requirement already satisfied: langchain-text-splitters<0.3.0,>=0.2.0 in /usr/local/lib/python3.10/dist-packages (from langchain) (0.2.2)\n",
            "Requirement already satisfied: langsmith<0.2.0,>=0.1.17 in /usr/local/lib/python3.10/dist-packages (from langchain) (0.1.106)\n",
            "Requirement already satisfied: numpy<2,>=1 in /usr/local/lib/python3.10/dist-packages (from langchain) (1.26.4)\n",
            "Requirement already satisfied: pydantic<3,>=1 in /usr/local/lib/python3.10/dist-packages (from langchain) (2.8.2)\n",
            "Requirement already satisfied: requests<3,>=2 in /usr/local/lib/python3.10/dist-packages (from langchain) (2.32.3)\n",
            "Requirement already satisfied: tenacity!=8.4.0,<9.0.0,>=8.1.0 in /usr/local/lib/python3.10/dist-packages (from langchain) (8.5.0)\n",
            "Requirement already satisfied: dataclasses-json<0.7,>=0.5.7 in /usr/local/lib/python3.10/dist-packages (from langchain-community) (0.6.7)\n",
            "Requirement already satisfied: jsonpatch<2.0,>=1.33 in /usr/local/lib/python3.10/dist-packages (from langchain-core<0.3.0,>=0.2.35->langchain) (1.33)\n",
            "Requirement already satisfied: packaging<25,>=23.2 in /usr/local/lib/python3.10/dist-packages (from langchain-core<0.3.0,>=0.2.35->langchain) (24.1)\n",
            "Requirement already satisfied: typing-extensions>=4.7 in /usr/local/lib/python3.10/dist-packages (from langchain-core<0.3.0,>=0.2.35->langchain) (4.12.2)\n",
            "Requirement already satisfied: aiohappyeyeballs>=2.3.0 in /usr/local/lib/python3.10/dist-packages (from aiohttp<4.0.0,>=3.8.3->langchain) (2.4.0)\n",
            "Requirement already satisfied: aiosignal>=1.1.2 in /usr/local/lib/python3.10/dist-packages (from aiohttp<4.0.0,>=3.8.3->langchain) (1.3.1)\n",
            "Requirement already satisfied: attrs>=17.3.0 in /usr/local/lib/python3.10/dist-packages (from aiohttp<4.0.0,>=3.8.3->langchain) (24.2.0)\n",
            "Requirement already satisfied: frozenlist>=1.1.1 in /usr/local/lib/python3.10/dist-packages (from aiohttp<4.0.0,>=3.8.3->langchain) (1.4.1)\n",
            "Requirement already satisfied: multidict<7.0,>=4.5 in /usr/local/lib/python3.10/dist-packages (from aiohttp<4.0.0,>=3.8.3->langchain) (6.0.5)\n",
            "Requirement already satisfied: yarl<2.0,>=1.0 in /usr/local/lib/python3.10/dist-packages (from aiohttp<4.0.0,>=3.8.3->langchain) (1.9.4)\n",
            "Requirement already satisfied: marshmallow<4.0.0,>=3.18.0 in /usr/local/lib/python3.10/dist-packages (from dataclasses-json<0.7,>=0.5.7->langchain-community) (3.22.0)\n",
            "Requirement already satisfied: typing-inspect<1,>=0.4.0 in /usr/local/lib/python3.10/dist-packages (from dataclasses-json<0.7,>=0.5.7->langchain-community) (0.9.0)\n",
            "Requirement already satisfied: httpx<1,>=0.23.0 in /usr/local/lib/python3.10/dist-packages (from langsmith<0.2.0,>=0.1.17->langchain) (0.27.2)\n",
            "Requirement already satisfied: orjson<4.0.0,>=3.9.14 in /usr/local/lib/python3.10/dist-packages (from langsmith<0.2.0,>=0.1.17->langchain) (3.10.7)\n",
            "Requirement already satisfied: annotated-types>=0.4.0 in /usr/local/lib/python3.10/dist-packages (from pydantic<3,>=1->langchain) (0.7.0)\n",
            "Requirement already satisfied: pydantic-core==2.20.1 in /usr/local/lib/python3.10/dist-packages (from pydantic<3,>=1->langchain) (2.20.1)\n",
            "Requirement already satisfied: charset-normalizer<4,>=2 in /usr/local/lib/python3.10/dist-packages (from requests<3,>=2->langchain) (3.3.2)\n",
            "Requirement already satisfied: idna<4,>=2.5 in /usr/local/lib/python3.10/dist-packages (from requests<3,>=2->langchain) (3.8)\n",
            "Requirement already satisfied: urllib3<3,>=1.21.1 in /usr/local/lib/python3.10/dist-packages (from requests<3,>=2->langchain) (2.0.7)\n",
            "Requirement already satisfied: certifi>=2017.4.17 in /usr/local/lib/python3.10/dist-packages (from requests<3,>=2->langchain) (2024.7.4)\n",
            "Requirement already satisfied: greenlet!=0.4.17 in /usr/local/lib/python3.10/dist-packages (from SQLAlchemy<3,>=1.4->langchain) (3.0.3)\n",
            "Requirement already satisfied: anyio in /usr/local/lib/python3.10/dist-packages (from httpx<1,>=0.23.0->langsmith<0.2.0,>=0.1.17->langchain) (3.7.1)\n",
            "Requirement already satisfied: httpcore==1.* in /usr/local/lib/python3.10/dist-packages (from httpx<1,>=0.23.0->langsmith<0.2.0,>=0.1.17->langchain) (1.0.5)\n",
            "Requirement already satisfied: sniffio in /usr/local/lib/python3.10/dist-packages (from httpx<1,>=0.23.0->langsmith<0.2.0,>=0.1.17->langchain) (1.3.1)\n",
            "Requirement already satisfied: h11<0.15,>=0.13 in /usr/local/lib/python3.10/dist-packages (from httpcore==1.*->httpx<1,>=0.23.0->langsmith<0.2.0,>=0.1.17->langchain) (0.14.0)\n",
            "Requirement already satisfied: jsonpointer>=1.9 in /usr/local/lib/python3.10/dist-packages (from jsonpatch<2.0,>=1.33->langchain-core<0.3.0,>=0.2.35->langchain) (3.0.0)\n",
            "Requirement already satisfied: mypy-extensions>=0.3.0 in /usr/local/lib/python3.10/dist-packages (from typing-inspect<1,>=0.4.0->dataclasses-json<0.7,>=0.5.7->langchain-community) (1.0.0)\n",
            "Requirement already satisfied: exceptiongroup in /usr/local/lib/python3.10/dist-packages (from anyio->httpx<1,>=0.23.0->langsmith<0.2.0,>=0.1.17->langchain) (1.2.2)\n"
          ]
        }
      ]
    },
    {
      "cell_type": "code",
      "source": [
        "from langchain_community.tools.tavily_search import TavilySearchResults  # Import TavilySearchResults from the langchain_community.tools.tavily_search module\n",
        "\n",
        "# Create an instance of TavilySearchResults with specific configurations\n",
        "search_tool = TavilySearchResults(\n",
        "    max_results=1,  # Limit the search results to a maximum of 1 result\n",
        "    args_schema=SearchTool  # Use the SearchTool class to define the schema for search arguments\n",
        ")\n",
        "\n",
        "# Create a list containing the search_tool instance\n",
        "tools = [search_tool]  # This list can be used to manage and access different tools\n"
      ],
      "metadata": {
        "id": "DlpoUOIkyNqP"
      },
      "execution_count": null,
      "outputs": []
    },
    {
      "cell_type": "markdown",
      "source": [
        " This code snippet sets up a search tool using the Tavily search engine or API, configures it to return a maximum of one result, and ensures that the search query adheres to the structure defined by the SearchTool class.\n",
        "\n",
        "* TavilySearchResults: Represents the search tool.\n",
        "* max_results=1: Limits the search to one result.\n",
        "* args_schema=SearchTool: Ensures that the input follows the SearchTool schema.\n",
        "* tools = [search_tool]: Prepares a list containing the search_tool, which can be passed into other parts of your code, such as an agent that uses this tool to perform searches."
      ],
      "metadata": {
        "id": "j_9SbMj8ylyb"
      }
    },
    {
      "cell_type": "code",
      "source": [],
      "metadata": {
        "id": "Wa7OtMJlyNh1"
      },
      "execution_count": null,
      "outputs": []
    },
    {
      "cell_type": "markdown",
      "source": [
        "# 3. Tool Executor\n",
        "We can now wrap these tools in a simple ToolExecutor. This is a real simple class that takes in a ToolInvocation and calls that tool, returning the output. A ToolInvocation is any class with tool and tool_input attribute."
      ],
      "metadata": {
        "id": "d6w2-sMyyp3k"
      }
    },
    {
      "cell_type": "code",
      "source": [
        "from langgraph.prebuilt import ToolExecutor  # Import ToolExecutor from langgraph.prebuilt to manage and execute tools\n",
        "\n",
        "tool_executor = ToolExecutor(tools)  # Create an instance of ToolExecutor, providing the list of tools to be managed and executed\n"
      ],
      "metadata": {
        "id": "7DwY08aGyNeL",
        "colab": {
          "base_uri": "https://localhost:8080/"
        },
        "outputId": "0046f98d-79f2-4567-f89c-47f4ab88b991"
      },
      "execution_count": null,
      "outputs": [
        {
          "output_type": "stream",
          "name": "stderr",
          "text": [
            "<ipython-input-13-a7d6763a57d7>:3: LangGraphDeprecationWarning: ToolExecutor is deprecated as of version 0.2.0 and will be removed in 0.3.0. Use langgraph.prebuilt.ToolNode instead.\n",
            "  tool_executor = ToolExecutor(tools)  # Create an instance of ToolExecutor, providing the list of tools to be managed and executed\n"
          ]
        }
      ]
    },
    {
      "cell_type": "markdown",
      "source": [
        "* Purpose: This creates a ToolExecutor instance that can execute the tools defined earlier. The ToolExecutor is responsible for taking a ToolInvocation and returning the output."
      ],
      "metadata": {
        "id": "kaVsvv1QyyB2"
      }
    },
    {
      "cell_type": "code",
      "source": [],
      "metadata": {
        "id": "5LHlDK_6yNZ_"
      },
      "execution_count": null,
      "outputs": []
    },
    {
      "cell_type": "markdown",
      "source": [
        "# 4. Setting Up the Model\n",
        "Now we need to load the chat model we want to use. Importantly, this should satisfy two criteria:\n",
        "\n",
        "1. It should work with messages. We will represent all agent state in the form of messages, so it needs to be able to work well with them.\n",
        "2. It should work with OpenAI function calling. This means it should either be an OpenAI model or a model that exposes a similar interface."
      ],
      "metadata": {
        "id": "YSaxLV5Cy6jI"
      }
    },
    {
      "cell_type": "code",
      "source": [
        "from langchain_openai import ChatOpenAI  # Import ChatOpenAI to use OpenAI's chat model\n",
        "\n",
        "# Create an instance of ChatOpenAI with specific settings\n",
        "model = ChatOpenAI(\n",
        "    temperature=0,  # Set temperature to 0 for more deterministic responses (less randomness)\n",
        "    streaming=True  # Enable streaming to receive responses in real-time as they are generated\n",
        ")\n",
        "\n",
        "# Bind the previously defined tools to the model, so it can use them during its operation\n",
        "model = model.bind_tools(tools)\n"
      ],
      "metadata": {
        "id": "8bZCm2jhyNIA"
      },
      "execution_count": null,
      "outputs": []
    },
    {
      "cell_type": "markdown",
      "source": [
        "# Explanation:\n",
        "\n",
        "* ChatOpenAI: This loads the OpenAI chat model that will handle the conversation. The temperature=0 makes the model deterministic (it won't generate random responses).\n",
        "* bind_tools: Associates the defined tools with the model so it knows these tools are available for use. binds the tools (like the Tavily search tool) to the model, allowing the model to use these tools during conversation."
      ],
      "metadata": {
        "id": "k1ccAYdAzDNN"
      }
    },
    {
      "cell_type": "code",
      "source": [],
      "metadata": {
        "id": "ENHGSJJAyM89"
      },
      "execution_count": null,
      "outputs": []
    },
    {
      "cell_type": "markdown",
      "source": [
        "# 5. Defining Agent State\n",
        "In LangGraph, when we talk about the \"agent state,\" we're referring to a piece of data that keeps track of what's happening as the agent moves through different parts of the graph.\n",
        "\n",
        "# Breaking it Down:\n",
        "**StateGraph:**\n",
        "\n",
        "* This is the main structure in LangGraph that controls how the agent moves through various steps (or nodes) in the graph.\n",
        "\n",
        "**State Object:**\n",
        "\n",
        "* This is like a notebook that the StateGraph carries around. It holds information that might change as the agent goes from one node to another.\n",
        "\n",
        "**Nodes and State Updates:**\n",
        "\n",
        "* Each node in the graph does something specific. When the agent reaches a node, that node can either:\n",
        "\n",
        "**SET:** Change something in the state notebook (like replacing an old note with a new one).\n",
        "**ADD:** Add something new to the state notebook without changing what's already there.\n",
        "\n",
        "**Example with Messages:**\n",
        "\n",
        "* Imagine the state notebook is just a list where you jot down messages. As the agent moves through different nodes, each node adds a new message to this list.\n",
        "* We use something called a TypedDict to define what this notebook looks like. In this case, it has one key, messages, which is just a list where new messages are added as the agent moves along.\n",
        "\n",
        "So, the \"agent state\" is basically a way to track what's happening as the agent progresses through different tasks, with each step either adding to or changing the information being tracked."
      ],
      "metadata": {
        "id": "wGtUNMS_zd9a"
      }
    },
    {
      "cell_type": "code",
      "source": [
        "import operator  # Import the operator module for functions that can be used with operators\n",
        "\n",
        "from typing import Annotated, Sequence, TypedDict  # Import types for type hinting and type definitions\n",
        "\n",
        "from langchain_core.messages import BaseMessage  # Import BaseMessage to represent messages in the workflow\n",
        "\n",
        "# Define a class called AgentState that specifies the structure of the state dictionary\n",
        "class AgentState(TypedDict):\n",
        "    # Define a field 'messages' which is a sequence (list) of BaseMessage objects\n",
        "    messages: Annotated[Sequence[BaseMessage], operator.add]  # Annotate with operator.add for special handling or metadata\n"
      ],
      "metadata": {
        "id": "QBmG6Es5zb1U"
      },
      "execution_count": null,
      "outputs": []
    },
    {
      "cell_type": "markdown",
      "source": [
        "# Explanation:\n",
        "\n",
        "AgentState: This defines the structure of the state that will be passed around between different nodes (components) in the workflow. It contains a list of messages that represent the conversation history."
      ],
      "metadata": {
        "id": "xvsrHfEvzoRJ"
      }
    },
    {
      "cell_type": "code",
      "source": [],
      "metadata": {
        "id": "XMTugIwYzbwk"
      },
      "execution_count": null,
      "outputs": []
    },
    {
      "cell_type": "markdown",
      "source": [
        "# 6. Defining the Nodes\n",
        "We now need to define a few different nodes in our graph. In langgraph, a node can be either a function or a runnable. There are two main nodes we need for this:\n",
        "\n",
        "1. The agent: responsible for deciding what (if any) actions to take.\n",
        "2. A function to invoke tools: if the agent decides to take an action, this node will then execute that action.\n",
        "\n",
        "We will also need to define some edges. Some of these edges may be conditional. The reason they are conditional is that based on the output of a node, one of several paths may be taken. The path that is taken is not known until that node is run (the LLM decides).\n",
        "\n",
        "1. Conditional Edge: after the agent is called, we should either: a. If the agent said to take an action, then the function to invoke tools should be called b. If the agent said that it was finished, then it should finish\n",
        "2. Normal Edge: after the tools are invoked, it should always go back to the agent to decide what to do next\n",
        "\n",
        "Let's define the nodes, as well as a function to decide how what conditional edge to take.\n",
        "\n",
        "**MODIFICATION**\n",
        "\n",
        "We change the should_continue function to check whether return_direct was set to True"
      ],
      "metadata": {
        "id": "ctgDL2dtz_8J"
      }
    },
    {
      "cell_type": "code",
      "source": [
        "from langchain_core.messages import ToolMessage  # Import ToolMessage for handling messages related to tools\n",
        "from langgraph.prebuilt import ToolInvocation  # Import ToolInvocation to create and manage tool calls\n",
        "\n",
        "# Define a function to decide whether to continue processing based on the state\n",
        "def should_continue(state):\n",
        "    messages = state[\"messages\"]  # Get the list of messages from the state\n",
        "    last_message = messages[-1]  # Get the most recent message\n",
        "\n",
        "    # Check if the last message has any tool calls\n",
        "    if not last_message.tool_calls:\n",
        "        return \"end\"  # If no tool calls, return \"end\" to stop processing\n",
        "    else:\n",
        "        # Get the arguments of the first tool call in the last message\n",
        "        arguments = last_message.tool_calls[0][\"args\"]\n",
        "\n",
        "        # Check if the \"return_direct\" argument is set to True\n",
        "        if arguments.get(\"return_direct\", False):\n",
        "            return \"final\"  # If \"return_direct\" is True, return \"final\" to process the result directly\n",
        "        else:\n",
        "            return \"continue\"  # If \"return_direct\" is not True, return \"continue\" to proceed with further processing\n"
      ],
      "metadata": {
        "id": "D6Q3NHTgzbqy"
      },
      "execution_count": null,
      "outputs": []
    },
    {
      "cell_type": "markdown",
      "source": [
        "# Explanation:\n",
        "\n",
        "should_continue: Decides whether to continue processing or to end the conversation. It checks if the tool's response should be returned directly (return_direct=True), and based on that, decides the next step."
      ],
      "metadata": {
        "id": "nY41FaFK5nFO"
      }
    },
    {
      "cell_type": "code",
      "source": [],
      "metadata": {
        "id": "r_SMexcZZXg2"
      },
      "execution_count": null,
      "outputs": []
    },
    {
      "cell_type": "code",
      "source": [
        "def call_model(state):  # Define a function named 'call_model' that takes one argument 'state'\n",
        "    messages = state[\"messages\"]  # Extract the value associated with the key 'messages' from the 'state' dictionary and store it in the variable 'messages'\n",
        "    response = model.invoke(messages)  # Use the 'invoke' method of 'model' to process 'messages' and store the result in the variable 'response'\n",
        "    return {\"messages\": [response]}  # Return a dictionary with the key 'messages' and the value as a list containing 'response'\n"
      ],
      "metadata": {
        "id": "xCLpk7h_5sc4"
      },
      "execution_count": null,
      "outputs": []
    },
    {
      "cell_type": "markdown",
      "source": [
        "* call_model: Calls the language model with the current conversation history and appends the model’s response to the message list."
      ],
      "metadata": {
        "id": "01Z9Q1tw5zvV"
      }
    },
    {
      "cell_type": "code",
      "source": [],
      "metadata": {
        "id": "votL4RxR54Uh"
      },
      "execution_count": null,
      "outputs": []
    },
    {
      "cell_type": "markdown",
      "source": [
        "**MODIFICATION**\n",
        "\n",
        "We change the tool calling to get rid of the return_direct parameter (not used in the actual tool call)"
      ],
      "metadata": {
        "id": "q90vbcK-cQ6D"
      }
    },
    {
      "cell_type": "code",
      "source": [
        "def call_tool(state):  # Define a function named 'call_tool' that takes one argument 'state'\n",
        "    messages = state[\"messages\"]  # Extract the 'messages' list from the 'state' dictionary\n",
        "    last_message = messages[-1]  # Get the last message in the 'messages' list\n",
        "    tool_call = last_message.tool_calls[0]  # Extract the first tool call from the 'tool_calls' list in the last message\n",
        "    tool_name = tool_call[\"name\"]  # Get the name of the tool from the 'tool_call' dictionary\n",
        "    arguments = tool_call[\"args\"]  # Get the arguments for the tool from the 'tool_call' dictionary\n",
        "\n",
        "    if tool_name == \"tavily_search_results_json\":  # Check if the tool name is \"tavily_search_results_json\"\n",
        "        if \"return_direct\" in arguments:  # Check if the argument \"return_direct\" exists in the 'arguments' dictionary\n",
        "            del arguments[\"return_direct\"]  # If it exists, delete the \"return_direct\" key from the 'arguments' dictionary\n",
        "\n",
        "    action = ToolInvocation(tool=tool_name, tool_input=arguments)  # Create an action using 'ToolInvocation' with the tool's name and the modified arguments\n",
        "    response = tool_executor.invoke(action)  # Invoke the tool action using 'tool_executor' and store the response\n",
        "\n",
        "    tool_message = ToolMessage(content=str(response), name=action.tool, tool_call_id=tool_call[\"id\"])  # Create a new 'ToolMessage' with the response content, tool name, and tool call ID\n",
        "    return {\"messages\": [tool_message]}  # Return a dictionary containing the new 'tool_message' in a list under the key 'messages'\n"
      ],
      "metadata": {
        "id": "I8-bRJGP6CT-"
      },
      "execution_count": null,
      "outputs": []
    },
    {
      "cell_type": "markdown",
      "source": [
        "* call_tool: Executes the selected tool, removes the return_direct flag from the tool’s input (since the tool doesn’t need it), and then formats the tool’s response as a message to be added to the state."
      ],
      "metadata": {
        "id": "56AbO_Sm55H0"
      }
    },
    {
      "cell_type": "code",
      "source": [],
      "metadata": {
        "id": "g8PavQ-Y6Ibo"
      },
      "execution_count": null,
      "outputs": []
    },
    {
      "cell_type": "markdown",
      "source": [
        "# Step 8: Define the Workflow (Graph)"
      ],
      "metadata": {
        "id": "PwUwqxTb6Tee"
      }
    },
    {
      "cell_type": "markdown",
      "source": [
        "**Define the graph**\n",
        "\n",
        "We can now put it all together and define the graph!\n",
        "\n",
        "**MODIFICATION**\n",
        "\n",
        "We add a separate node for any tool call where return_direct=True. The reason this is needed is that after this node we want to end, while after other tool calls we want to go back to the LLM."
      ],
      "metadata": {
        "id": "VBthuO4dcZBR"
      }
    },
    {
      "cell_type": "code",
      "source": [
        "from langgraph.graph import END, StateGraph, START  # Import necessary components from langgraph: END, StateGraph, and START\n",
        "\n",
        "workflow = StateGraph(AgentState)  # Create a new workflow (StateGraph) starting with the AgentState\n",
        "\n",
        "workflow.add_node(\"agent\", call_model)  # Add a node called \"agent\" that runs the call_model function\n",
        "workflow.add_node(\"action\", call_tool)  # Add a node called \"action\" that runs the call_tool function\n",
        "workflow.add_node(\"final\", call_tool)  # Add a node called \"final\" that also runs the call_tool function\n",
        "\n",
        "workflow.add_edge(START, \"agent\")  # Connect the START point to the \"agent\" node, making \"agent\" the first step\n",
        "\n",
        "workflow.add_conditional_edges(  # Add conditional paths from the \"agent\" node based on a condition\n",
        "    \"agent\",  # The starting node for the condition\n",
        "    should_continue,  # The function that decides the path based on the condition\n",
        "    {\"continue\": \"action\", \"final\": \"final\", \"end\": END},  # The possible paths: to \"action\", \"final\", or END\n",
        ")\n",
        "\n",
        "workflow.add_edge(\"action\", \"agent\")  # Connect the \"action\" node back to the \"agent\" node, creating a loop\n",
        "workflow.add_edge(\"final\", END)  # Connect the \"final\" node to END, meaning the workflow ends here\n",
        "\n",
        "app = workflow.compile()  # Compile the workflow into an application that can be executed\n"
      ],
      "metadata": {
        "id": "ByNkzaII6IYq"
      },
      "execution_count": null,
      "outputs": []
    },
    {
      "cell_type": "markdown",
      "source": [
        "# Explanation:\n",
        "\n",
        "* StateGraph: Defines the flow of the conversation. Nodes represent different functions, and edges represent transitions between these nodes.\n",
        "* add_node: Adds the nodes (steps) to the graph:\n",
        "* agent: Calls the language model.\n",
        "* action: Executes a tool.\n",
        "* final: Executes a tool and then ends.\n",
        "* add_edge: Specifies the order in which nodes are called. For example, after the agent node, it checks whether to continue to the action node, go to the final node, or end the conversation.\n",
        "* compile: Finalizes the workflow into a runnable application."
      ],
      "metadata": {
        "id": "n8sk6U4G6bSK"
      }
    },
    {
      "cell_type": "code",
      "source": [],
      "metadata": {
        "id": "gNr5Grx86IVY"
      },
      "execution_count": null,
      "outputs": []
    },
    {
      "cell_type": "code",
      "source": [
        "from IPython.display import Image, display  # Import the Image and display functions from IPython.display\n",
        "\n",
        "try:\n",
        "    display(Image(app.get_graph(xray=True).draw_mermaid_png()))  # Try to display a visual representation of the workflow as a PNG image\n",
        "except Exception:  # If an error occurs (like missing dependencies), handle it here\n",
        "    # This requires some extra dependencies and is optional\n",
        "    pass  # Ignore the error and do nothing, allowing the program to continue running\n"
      ],
      "metadata": {
        "colab": {
          "base_uri": "https://localhost:8080/",
          "height": 339
        },
        "id": "2MkSwmZY5uR1",
        "outputId": "d23ee0b5-a0da-46a0-d8d4-fb11f17fdbf1"
      },
      "execution_count": null,
      "outputs": [
        {
          "output_type": "display_data",
          "data": {
            "image/jpeg": "[encoded data removed]",
            "text/plain": [
              "<IPython.core.display.Image object>"
            ]
          },
          "metadata": {}
        }
      ]
    },
    {
      "cell_type": "markdown",
      "source": [
        "# Step 9: Run the Application"
      ],
      "metadata": {
        "id": "GuBlL7qy66gl"
      }
    },
    {
      "cell_type": "code",
      "source": [
        "from langchain_core.messages import HumanMessage  # Import the HumanMessage class to create human-like messages\n",
        "\n",
        "# Create an input dictionary with a message asking about the weather in Pakistan\n",
        "inputs = {\"messages\": [HumanMessage(content=\"what is the weather in Pakistan\")]}\n",
        "\n",
        "# Run the workflow using the input and stream the outputs\n",
        "for output in app.stream(inputs):\n",
        "\n",
        "    # Loop through each item (node's output) in the streamed output\n",
        "    for key, value in output.items():\n",
        "        print(f\"Output from node '{key}':\")  # Print the name of the node that produced the output\n",
        "        print(\"---\")  # Print a separator line for clarity\n",
        "        print(value)  # Print the actual output from the node\n",
        "\n",
        "    print(\"\\n---\\n\")  # Add a blank line with separators between different outputs\n"
      ],
      "metadata": {
        "id": "QI70dsud6ISb",
        "colab": {
          "base_uri": "https://localhost:8080/"
        },
        "outputId": "446f04fc-8bd1-44f2-ff13-8b08f175ee86"
      },
      "execution_count": null,
      "outputs": [
        {
          "output_type": "stream",
          "name": "stdout",
          "text": [
            "Output from node 'agent':\n",
            "---\n",
            "{'messages': [AIMessage(content='', additional_kwargs={'tool_calls': [{'index': 0, 'id': 'call_ab0ixNiPuhf6JoY9hgNqOVAw', 'function': {'arguments': '{\"query\":\"weather in Pakistan\"}', 'name': 'tavily_search_results_json'}, 'type': 'function'}]}, response_metadata={'finish_reason': 'tool_calls', 'model_name': 'gpt-3.5-turbo-0125'}, id='run-4e079be0-6f29-42d1-b7f5-dd20ed9bab69-0', tool_calls=[{'name': 'tavily_search_results_json', 'args': {'query': 'weather in Pakistan'}, 'id': 'call_ab0ixNiPuhf6JoY9hgNqOVAw', 'type': 'tool_call'}])]}\n",
            "\n",
            "---\n",
            "\n"
          ]
        },
        {
          "output_type": "stream",
          "name": "stderr",
          "text": [
            "<ipython-input-18-41c3f260fbee>:12: LangGraphDeprecationWarning: ToolInvocation is deprecated as of version 0.2.0 and will be removed in 0.3.0. Use langgraph.prebuilt.ToolNode instead.\n",
            "  action = ToolInvocation(tool=tool_name, tool_input=arguments)  # Create an action using 'ToolInvocation' with the tool's name and the modified arguments\n"
          ]
        },
        {
          "output_type": "stream",
          "name": "stdout",
          "text": [
            "Output from node 'action':\n",
            "---\n",
            "{'messages': [ToolMessage(content='[{\\'url\\': \\'https://www.weatherapi.com/\\', \\'content\\': \"{\\'location\\': {\\'name\\': \\'Islamabad\\', \\'region\\': \\'Islamabad\\', \\'country\\': \\'Pakistan\\', \\'lat\\': 33.7, \\'lon\\': 73.17, \\'tz_id\\': \\'Asia/Karachi\\', \\'localtime_epoch\\': 1724923999, \\'localtime\\': \\'2024-08-29 14:33\\'}, \\'current\\': {\\'last_updated_epoch\\': 1724923800, \\'last_updated\\': \\'2024-08-29 14:30\\', \\'temp_c\\': 25.1, \\'temp_f\\': 77.2, \\'is_day\\': 1, \\'condition\\': {\\'text\\': \\'Patchy rain nearby\\', \\'icon\\': \\'//cdn.weatherapi.com/weather/64x64/day/176.png\\', \\'code\\': 1063}, \\'wind_mph\\': 6.5, \\'wind_kph\\': 10.4, \\'wind_degree\\': 358, \\'wind_dir\\': \\'N\\', \\'pressure_mb\\': 1006.0, \\'pressure_in\\': 29.7, \\'precip_mm\\': 0.08, \\'precip_in\\': 0.0, \\'humidity\\': 80, \\'cloud\\': 89, \\'feelslike_c\\': 27.2, \\'feelslike_f\\': 81.0, \\'windchill_c\\': 25.1, \\'windchill_f\\': 77.2, \\'heatindex_c\\': 27.2, \\'heatindex_f\\': 81.0, \\'dewpoint_c\\': 21.5, \\'dewpoint_f\\': 70.7, \\'vis_km\\': 10.0, \\'vis_miles\\': 6.0, \\'uv\\': 6.0, \\'gust_mph\\': 7.5, \\'gust_kph\\': 12.0}}\"}]', name='tavily_search_results_json', tool_call_id='call_ab0ixNiPuhf6JoY9hgNqOVAw')]}\n",
            "\n",
            "---\n",
            "\n",
            "Output from node 'agent':\n",
            "---\n",
            "{'messages': [AIMessage(content='The current weather in Islamabad, Pakistan is as follows:\\n- Temperature: 25.1°C (77.2°F)\\n- Condition: Patchy rain nearby\\n- Wind: 10.4 km/h from the North\\n- Humidity: 80%\\n- Cloudiness: 89%\\n- Visibility: 10.0 km\\n\\nFor more detailed information, you can visit [Weather API](https://www.weatherapi.com/).', response_metadata={'finish_reason': 'stop', 'model_name': 'gpt-3.5-turbo-0125'}, id='run-d67068ea-8c15-4de9-9661-a2ccf2fe201d-0')]}\n",
            "\n",
            "---\n",
            "\n"
          ]
        }
      ]
    },
    {
      "cell_type": "markdown",
      "source": [
        "# Explanation:\n",
        "\n",
        "* HumanMessage: The user’s input message to the chat agent.\n",
        "* app.stream(inputs): Runs the compiled graph with the provided input, simulating a conversation where the LLM and tools interact based on the workflow.\n",
        "* for output in app.stream(inputs): Loops through the outputs of each node, printing the result."
      ],
      "metadata": {
        "id": "X4nMy33M7DNy"
      }
    },
    {
      "cell_type": "code",
      "source": [],
      "metadata": {
        "id": "CbaS0UOD6IMi"
      },
      "execution_count": null,
      "outputs": []
    },
    {
      "cell_type": "markdown",
      "source": [
        "# Summary of the Project\n",
        "This project involves modifying a base chat agent executor, which is a system designed to interact with a language model (LLM) and tools in a loop. The modification allows the agent to dynamically decide whether to return the result of a tool call directly to the user without further processing, based on the specific context."
      ],
      "metadata": {
        "id": "cGhXayK_q4R2"
      }
    },
    {
      "cell_type": "code",
      "source": [],
      "metadata": {
        "id": "1YGMVkpbq7V-"
      },
      "execution_count": null,
      "outputs": []
    },
    {
      "cell_type": "markdown",
      "source": [
        "# Purpose of the Project\n",
        "The purpose of this project is to create a more flexible and efficient chat agent that can:\n",
        "\n",
        "Directly return tool results to the user when the result is already sufficient as a final answer.\n",
        "Decide dynamically, based on the context, whether to return the result directly or to involve the LLM for further processing or summarization.\n",
        "This is particularly useful when some tools provide results that can sometimes be used as the final response. Instead of always processing the tool's output through the LLM, the agent can return the result directly if it's deemed appropriate, saving time and computational resources.\n",
        "\n",
        "This approach ensures that the chat agent can handle cases where direct responses are sufficient while still allowing for more complex processing when needed."
      ],
      "metadata": {
        "id": "CdpxrvzZq8nC"
      }
    },
    {
      "cell_type": "code",
      "source": [],
      "metadata": {
        "id": "Zowk9b92rCGN"
      },
      "execution_count": null,
      "outputs": []
    }
  ]
}