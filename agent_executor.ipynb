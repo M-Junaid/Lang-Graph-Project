{
  "nbformat": 4,
  "nbformat_minor": 0,
  "metadata": {
    "colab": {
      "provenance": []
    },
    "kernelspec": {
      "name": "python3",
      "display_name": "Python 3"
    },
    "language_info": {
      "name": "python"
    }
  },
  "cells": [
    {
      "cell_type": "markdown",
      "source": [
        "## Agent Executor From Scratch\n",
        "In this notebook we will go over how to build a basic agent executor from scratch.\n",
        "\n",
        "1. Setup\n",
        "First we need to install the packages required\n"
      ],
      "metadata": {
        "id": "I23rv51SmTdy"
      }
    },
    {
      "cell_type": "code",
      "execution_count": 1,
      "metadata": {
        "id": "aqJYAz8VmH34"
      },
      "outputs": [],
      "source": [
        "%%capture --no-stderr\n",
        "%pip install --quiet -U langgraph langchain langchain_openai langchainhub tavily-python"
      ]
    },
    {
      "cell_type": "code",
      "source": [
        "!pip install langchain_community"
      ],
      "metadata": {
        "colab": {
          "base_uri": "https://localhost:8080/"
        },
        "id": "6xcqIOU3Ys29",
        "outputId": "599d679a-df88-4a68-d635-72ff8f599146"
      },
      "execution_count": 3,
      "outputs": [
        {
          "output_type": "stream",
          "name": "stdout",
          "text": [
            "Collecting langchain_community\n",
            "  Downloading langchain_community-0.2.11-py3-none-any.whl.metadata (2.7 kB)\n",
            "Requirement already satisfied: PyYAML>=5.3 in /usr/local/lib/python3.10/dist-packages (from langchain_community) (6.0.1)\n",
            "Requirement already satisfied: SQLAlchemy<3,>=1.4 in /usr/local/lib/python3.10/dist-packages (from langchain_community) (2.0.31)\n",
            "Requirement already satisfied: aiohttp<4.0.0,>=3.8.3 in /usr/local/lib/python3.10/dist-packages (from langchain_community) (3.10.0)\n",
            "Collecting dataclasses-json<0.7,>=0.5.7 (from langchain_community)\n",
            "  Downloading dataclasses_json-0.6.7-py3-none-any.whl.metadata (25 kB)\n",
            "Requirement already satisfied: langchain<0.3.0,>=0.2.12 in /usr/local/lib/python3.10/dist-packages (from langchain_community) (0.2.12)\n",
            "Requirement already satisfied: langchain-core<0.3.0,>=0.2.27 in /usr/local/lib/python3.10/dist-packages (from langchain_community) (0.2.28)\n",
            "Requirement already satisfied: langsmith<0.2.0,>=0.1.0 in /usr/local/lib/python3.10/dist-packages (from langchain_community) (0.1.98)\n",
            "Requirement already satisfied: numpy<2,>=1 in /usr/local/lib/python3.10/dist-packages (from langchain_community) (1.26.4)\n",
            "Requirement already satisfied: requests<3,>=2 in /usr/local/lib/python3.10/dist-packages (from langchain_community) (2.31.0)\n",
            "Requirement already satisfied: tenacity!=8.4.0,<9.0.0,>=8.1.0 in /usr/local/lib/python3.10/dist-packages (from langchain_community) (8.5.0)\n",
            "Requirement already satisfied: aiohappyeyeballs>=2.3.0 in /usr/local/lib/python3.10/dist-packages (from aiohttp<4.0.0,>=3.8.3->langchain_community) (2.3.4)\n",
            "Requirement already satisfied: aiosignal>=1.1.2 in /usr/local/lib/python3.10/dist-packages (from aiohttp<4.0.0,>=3.8.3->langchain_community) (1.3.1)\n",
            "Requirement already satisfied: attrs>=17.3.0 in /usr/local/lib/python3.10/dist-packages (from aiohttp<4.0.0,>=3.8.3->langchain_community) (23.2.0)\n",
            "Requirement already satisfied: frozenlist>=1.1.1 in /usr/local/lib/python3.10/dist-packages (from aiohttp<4.0.0,>=3.8.3->langchain_community) (1.4.1)\n",
            "Requirement already satisfied: multidict<7.0,>=4.5 in /usr/local/lib/python3.10/dist-packages (from aiohttp<4.0.0,>=3.8.3->langchain_community) (6.0.5)\n",
            "Requirement already satisfied: yarl<2.0,>=1.0 in /usr/local/lib/python3.10/dist-packages (from aiohttp<4.0.0,>=3.8.3->langchain_community) (1.9.4)\n",
            "Requirement already satisfied: async-timeout<5.0,>=4.0 in /usr/local/lib/python3.10/dist-packages (from aiohttp<4.0.0,>=3.8.3->langchain_community) (4.0.3)\n",
            "Collecting marshmallow<4.0.0,>=3.18.0 (from dataclasses-json<0.7,>=0.5.7->langchain_community)\n",
            "  Downloading marshmallow-3.21.3-py3-none-any.whl.metadata (7.1 kB)\n",
            "Collecting typing-inspect<1,>=0.4.0 (from dataclasses-json<0.7,>=0.5.7->langchain_community)\n",
            "  Downloading typing_inspect-0.9.0-py3-none-any.whl.metadata (1.5 kB)\n",
            "Requirement already satisfied: langchain-text-splitters<0.3.0,>=0.2.0 in /usr/local/lib/python3.10/dist-packages (from langchain<0.3.0,>=0.2.12->langchain_community) (0.2.2)\n",
            "Requirement already satisfied: pydantic<3,>=1 in /usr/local/lib/python3.10/dist-packages (from langchain<0.3.0,>=0.2.12->langchain_community) (2.8.2)\n",
            "Requirement already satisfied: jsonpatch<2.0,>=1.33 in /usr/local/lib/python3.10/dist-packages (from langchain-core<0.3.0,>=0.2.27->langchain_community) (1.33)\n",
            "Requirement already satisfied: packaging<25,>=23.2 in /usr/local/lib/python3.10/dist-packages (from langchain-core<0.3.0,>=0.2.27->langchain_community) (24.1)\n",
            "Requirement already satisfied: typing-extensions>=4.7 in /usr/local/lib/python3.10/dist-packages (from langchain-core<0.3.0,>=0.2.27->langchain_community) (4.12.2)\n",
            "Requirement already satisfied: orjson<4.0.0,>=3.9.14 in /usr/local/lib/python3.10/dist-packages (from langsmith<0.2.0,>=0.1.0->langchain_community) (3.10.6)\n",
            "Requirement already satisfied: charset-normalizer<4,>=2 in /usr/local/lib/python3.10/dist-packages (from requests<3,>=2->langchain_community) (3.3.2)\n",
            "Requirement already satisfied: idna<4,>=2.5 in /usr/local/lib/python3.10/dist-packages (from requests<3,>=2->langchain_community) (3.7)\n",
            "Requirement already satisfied: urllib3<3,>=1.21.1 in /usr/local/lib/python3.10/dist-packages (from requests<3,>=2->langchain_community) (2.0.7)\n",
            "Requirement already satisfied: certifi>=2017.4.17 in /usr/local/lib/python3.10/dist-packages (from requests<3,>=2->langchain_community) (2024.7.4)\n",
            "Requirement already satisfied: greenlet!=0.4.17 in /usr/local/lib/python3.10/dist-packages (from SQLAlchemy<3,>=1.4->langchain_community) (3.0.3)\n",
            "Requirement already satisfied: jsonpointer>=1.9 in /usr/local/lib/python3.10/dist-packages (from jsonpatch<2.0,>=1.33->langchain-core<0.3.0,>=0.2.27->langchain_community) (3.0.0)\n",
            "Requirement already satisfied: annotated-types>=0.4.0 in /usr/local/lib/python3.10/dist-packages (from pydantic<3,>=1->langchain<0.3.0,>=0.2.12->langchain_community) (0.7.0)\n",
            "Requirement already satisfied: pydantic-core==2.20.1 in /usr/local/lib/python3.10/dist-packages (from pydantic<3,>=1->langchain<0.3.0,>=0.2.12->langchain_community) (2.20.1)\n",
            "Collecting mypy-extensions>=0.3.0 (from typing-inspect<1,>=0.4.0->dataclasses-json<0.7,>=0.5.7->langchain_community)\n",
            "  Downloading mypy_extensions-1.0.0-py3-none-any.whl.metadata (1.1 kB)\n",
            "Downloading langchain_community-0.2.11-py3-none-any.whl (2.3 MB)\n",
            "\u001b[2K   \u001b[90m━━━━━━━━━━━━━━━━━━━━━━━━━━━━━━━━━━━━━━━━\u001b[0m \u001b[32m2.3/2.3 MB\u001b[0m \u001b[31m15.4 MB/s\u001b[0m eta \u001b[36m0:00:00\u001b[0m\n",
            "\u001b[?25hDownloading dataclasses_json-0.6.7-py3-none-any.whl (28 kB)\n",
            "Downloading marshmallow-3.21.3-py3-none-any.whl (49 kB)\n",
            "\u001b[2K   \u001b[90m━━━━━━━━━━━━━━━━━━━━━━━━━━━━━━━━━━━━━━━━\u001b[0m \u001b[32m49.2/49.2 kB\u001b[0m \u001b[31m3.4 MB/s\u001b[0m eta \u001b[36m0:00:00\u001b[0m\n",
            "\u001b[?25hDownloading typing_inspect-0.9.0-py3-none-any.whl (8.8 kB)\n",
            "Downloading mypy_extensions-1.0.0-py3-none-any.whl (4.7 kB)\n",
            "Installing collected packages: mypy-extensions, marshmallow, typing-inspect, dataclasses-json, langchain_community\n",
            "Successfully installed dataclasses-json-0.6.7 langchain_community-0.2.11 marshmallow-3.21.3 mypy-extensions-1.0.0 typing-inspect-0.9.0\n"
          ]
        }
      ]
    },
    {
      "cell_type": "markdown",
      "source": [
        "## 2. Create the LangChain Agent\n",
        "###Create an agent using the LangChain library:\n",
        "\n",
        " * Create a search tool (using Tavily).\n",
        " * Get a prompt from the LangChain Hub.\n",
        " * Choose an LLM (language model) like OpenAI.\n",
        " * Create an OpenAI functions agent.\n"
      ],
      "metadata": {
        "id": "lGHVa7IXFgXA"
      }
    },
    {
      "cell_type": "code",
      "source": [
        "import os  # For setting environment variables\n",
        "\n",
        "# Set API keys directly as environment variables\n",
        "os.environ[\"OPENAI_API_KEY\"] = \"\"\n",
        "os.environ[\"TAVILY_API_KEY\"] = \"\"\n",
        "os.environ[\"LANGCHAIN_TRACING_V2\"] = \"true\"\n",
        "os.environ[\"LANGCHAIN_API_KEY\"] = \"\"\n",
        "\n",
        "# Import necessary packages from LangChain and other tools\n",
        "from langchain import hub  # For pulling the prompt from the hub\n",
        "from langchain.agents import create_openai_functions_agent  # For creating the agent\n",
        "from langchain_community.tools.tavily_search import TavilySearchResults  # Tavily search tool\n",
        "from langchain_openai.chat_models import ChatOpenAI  # For the OpenAI LLM model\n",
        "\n",
        "# Define the tools to be used by the agent, in this case, Tavily search with max 1 result\n",
        "tools = [TavilySearchResults(max_results=1)]\n",
        "\n",
        "# Pull the prompt configuration from the LangChain hub\n",
        "prompt = hub.pull(\"hwchase17/openai-functions-agent\")\n",
        "\n",
        "# Choose the LLM that will drive the agent, using OpenAI's GPT-3.5-turbo model\n",
        "llm = ChatOpenAI(model=\"gpt-3.5-turbo-1106\", streaming=True)\n",
        "\n",
        "# Construct the OpenAI Functions agent with the specified LLM, tools, and prompt\n",
        "agent_runnable = create_openai_functions_agent(llm, tools, prompt)\n"
      ],
      "metadata": {
        "id": "wkwOtqulDECz"
      },
      "execution_count": 4,
      "outputs": []
    },
    {
      "cell_type": "markdown",
      "source": [
        "## 3. Define the Graph State\n",
        "We now define the graph state. The state for the traditional LangChain agent has a few attributes:\n",
        "\n",
        "1. input: This is the input string representing the main ask from the user, passed in as input.\n",
        "2. chat_history: This is any previous conversation messages, also passed in as input.\n",
        "3. intermediate_steps: This is list of actions and corresponding observations that the agent takes over time. This is updated each iteration of the agent.\n",
        "4. agent_outcome: This is the response from the agent, either an AgentAction or AgentFinish. The AgentExecutor should finish when this is an AgentFinish, otherwise it should call the requested tools."
      ],
      "metadata": {
        "id": "wYXdCEgnFunS"
      }
    },
    {
      "cell_type": "code",
      "source": [
        "import operator  # Provides mathematical operators for use in expressions\n",
        "from typing import Annotated, TypedDict, Union  # Provides type annotations for enhanced code clarity\n",
        "\n",
        "from langchain_core.agents import AgentAction, AgentFinish  # Defines actions and final states for agents\n",
        "from langchain_core.messages import BaseMessage  # Base class for messages exchanged between agents\n",
        "\n",
        "\n",
        "\n",
        "class AgentState(TypedDict):\n",
        "    # The input string\n",
        "    input: str\n",
        "    # The list of previous messages in the conversation\n",
        "    chat_history: list[BaseMessage]\n",
        "    # The outcome of a given call to the agent\n",
        "    # Needs `None` as a valid type, since this is what this will start as\n",
        "    agent_outcome: Union[AgentAction, AgentFinish, None]\n",
        "    # List of actions and corresponding observations\n",
        "    # Here we annotate this with `operator.add` to indicate that operations to\n",
        "    # this state should be ADDED to the existing values (not overwrite it)\n",
        "    intermediate_steps: Annotated[list[tuple[AgentAction, str]], operator.add]"
      ],
      "metadata": {
        "id": "X0S2ayvoDsfQ"
      },
      "execution_count": 5,
      "outputs": []
    },
    {
      "cell_type": "markdown",
      "source": [
        "## 4. Define the nodes\n",
        "We now need to define a few different nodes in our graph. In langgraph, a node can be either a function or a runnable. There are two main nodes we need for this:\n",
        "\n",
        "   1. The agent: responsible for deciding what (if any) actions to take.\n",
        "   2. A function to invoke tools: if the agent decides to take an action, this node will then execute that action.\n",
        "\n",
        "We will also need to define some edges. Some of these edges may be conditional. The reason they are conditional is that based on the output of a node, one of several paths may be taken. The path that is taken is not known until that node is run (the LLM decides).\n",
        "\n",
        "  1. Conditional Edge: after the agent is called, we should either: a. If the agent said to take an action, then the function to invoke tools should be called b. If the agent said that it was finished, then it should finish\n",
        "  2. Normal Edge: after the tools are invoked, it should always go back to the agent to decide what to do next\n",
        "Let's define the nodes, as well as a function to decide how what conditional edge to take."
      ],
      "metadata": {
        "id": "3rxmFKeVF5DU"
      }
    },
    {
      "cell_type": "code",
      "source": [
        "from langchain_core.agents import AgentFinish\n",
        "\n",
        "from langgraph.prebuilt.tool_executor import ToolExecutor\n",
        "\n",
        "# This a helper class we have that is useful for running tools\n",
        "# It takes in an agent action and calls that tool and returns the result\n",
        "tool_executor = ToolExecutor(tools)\n",
        "\n",
        "\n",
        "# Define the agent\n",
        "def run_agent(data):\n",
        "    agent_outcome = agent_runnable.invoke(data)\n",
        "    return {\"agent_outcome\": agent_outcome}\n",
        "\n",
        "\n",
        "# Define the function to execute tools\n",
        "def execute_tools(data):\n",
        "    # Get the most recent agent_outcome - this is the key added in the `agent` above\n",
        "    agent_action = data[\"agent_outcome\"]\n",
        "    output = tool_executor.invoke(agent_action)\n",
        "    return {\"intermediate_steps\": [(agent_action, str(output))]}\n",
        "\n",
        "\n",
        "# Define logic that will be used to determine which conditional edge to go down\n",
        "def should_continue(data):\n",
        "    # If the agent outcome is an AgentFinish, then we return `exit` string\n",
        "    # This will be used when setting up the graph to define the flow\n",
        "    if isinstance(data[\"agent_outcome\"], AgentFinish):\n",
        "        return \"end\"\n",
        "    # Otherwise, an AgentAction is returned\n",
        "    # Here we return `continue` string\n",
        "    # This will be used when setting up the graph to define the flow\n",
        "    else:\n",
        "        return \"continue\"\n"
      ],
      "metadata": {
        "id": "ehcWATPTDzJS",
        "colab": {
          "base_uri": "https://localhost:8080/"
        },
        "outputId": "f898ee3d-5432-43dc-e97a-09ad35917d9b"
      },
      "execution_count": 8,
      "outputs": [
        {
          "output_type": "stream",
          "name": "stderr",
          "text": [
            "<ipython-input-8-4679f865450e>:7: LangGraphDeprecationWarning: ToolExecutor is deprecated as of version 0.2.0 and will be removed in 0.3.0. Use langgraph.prebuilt.ToolNode instead.\n",
            "  tool_executor = ToolExecutor(tools)\n"
          ]
        }
      ]
    },
    {
      "cell_type": "markdown",
      "source": [
        "## 5.  Define the graph\n",
        "###We can now put it all together and define the graph!\n",
        " * Create a new graph and add the nodes.\n",
        " * Set the entry point (first node to be called).\n",
        " * Add conditional and normal edges.\n",
        " * Compile the graph to convert it into a runnable format."
      ],
      "metadata": {
        "id": "pnC6W8v7OAO7"
      }
    },
    {
      "cell_type": "code",
      "source": [
        "from langgraph.graph import END, StateGraph, START  # Import necessary components for the graph\n",
        "\n",
        "# Define a new graph with the AgentState\n",
        "workflow = StateGraph(AgentState)\n",
        "\n",
        "# Define the two nodes we will cycle between\n",
        "workflow.add_node(\"agent\", run_agent)\n",
        "workflow.add_node(\"action\", execute_tools)\n",
        "\n",
        "# Set the entrypoint as `agent`\n",
        "# This means that this node is the first one called\n",
        "workflow.add_edge(START, \"agent\")\n",
        "\n",
        "# Add conditional edges based on the agent's outcome\n",
        "workflow.add_conditional_edges(\n",
        "    \"agent\",  # Node to check condition\n",
        "    should_continue,  # Function to determine the edge\n",
        "    # Finally we pass in a mapping.\n",
        "    # The keys are strings, and the values are other nodes.\n",
        "    # END is a special node marking that the graph should finish.\n",
        "    # What will happen is we will call `should_continue`, and then the output of that\n",
        "    # will be matched against the keys in this mapping.\n",
        "    # Based on which one it matches, that node will then be called.\n",
        "    {\n",
        "        \"continue\": \"action\",  # If 'continue', go to the action node\n",
        "        \"end\": END,  # If 'end', finish the graph\n",
        "    },\n",
        ")\n",
        "\n",
        "# We now add a normal edge from `tools` to `agent`.\n",
        "# This means that after `tools` is called, `agent` node is called next.\n",
        "workflow.add_edge(\"action\", \"agent\")\n",
        "\n",
        "# Compile the workflow into a runnable application\n",
        "# Finally, we compile it!\n",
        "# This compiles it into a LangChain Runnable,\n",
        "# meaning you can use it as you would any other runnable\n",
        "app = workflow.compile()\n"
      ],
      "metadata": {
        "id": "AQ5Gf-SpD8s5"
      },
      "execution_count": 9,
      "outputs": []
    },
    {
      "cell_type": "markdown",
      "source": [
        "## 6. Run the Graph\n",
        " * Run the graph with some input data:\n",
        " * Use the compiled graph to process inputs.\n",
        " * The graph handles inputs, updates the state, and determines actions.\n",
        " * Outputs include intermediate steps and the final result."
      ],
      "metadata": {
        "id": "o3HKwfNfGObq"
      }
    },
    {
      "cell_type": "code",
      "source": [
        "# Define the input data for the agent\n",
        "inputs = {\"input\": \"what is the weather in pakistan\", \"chat_history\": []}\n",
        "\n",
        "# Stream the results of running the app with the input data\n",
        "for s in app.stream(inputs):\n",
        "    print(list(s.values())[0])  # Print the result of each step\n",
        "    print(\"----\")  # Separator for clarity\n"
      ],
      "metadata": {
        "colab": {
          "base_uri": "https://localhost:8080/"
        },
        "id": "4Cj7D3OPECJU",
        "outputId": "fb4d963d-667b-459c-b2ee-1ff305f1fbeb"
      },
      "execution_count": 10,
      "outputs": [
        {
          "output_type": "stream",
          "name": "stdout",
          "text": [
            "{'agent_outcome': AgentActionMessageLog(tool='tavily_search_results_json', tool_input={'query': 'weather in Pakistan'}, log=\"\\nInvoking: `tavily_search_results_json` with `{'query': 'weather in Pakistan'}`\\n\\n\\n\", message_log=[AIMessage(content='', additional_kwargs={'function_call': {'arguments': '{\"query\":\"weather in Pakistan\"}', 'name': 'tavily_search_results_json'}}, response_metadata={'finish_reason': 'function_call', 'model_name': 'gpt-3.5-turbo-1106', 'system_fingerprint': 'fp_5aa43294a1'}, id='run-4bc1a69b-dde7-4c6a-a18c-f81cbf4a599a-0')])}\n",
            "----\n",
            "{'intermediate_steps': [(AgentActionMessageLog(tool='tavily_search_results_json', tool_input={'query': 'weather in Pakistan'}, log=\"\\nInvoking: `tavily_search_results_json` with `{'query': 'weather in Pakistan'}`\\n\\n\\n\", message_log=[AIMessage(content='', additional_kwargs={'function_call': {'arguments': '{\"query\":\"weather in Pakistan\"}', 'name': 'tavily_search_results_json'}}, response_metadata={'finish_reason': 'function_call', 'model_name': 'gpt-3.5-turbo-1106', 'system_fingerprint': 'fp_5aa43294a1'}, id='run-4bc1a69b-dde7-4c6a-a18c-f81cbf4a599a-0')]), '[{\\'url\\': \\'https://www.weatherapi.com/\\', \\'content\\': \"{\\'location\\': {\\'name\\': \\'Islamabad\\', \\'region\\': \\'Islamabad\\', \\'country\\': \\'Pakistan\\', \\'lat\\': 33.7, \\'lon\\': 73.17, \\'tz_id\\': \\'Asia/Karachi\\', \\'localtime_epoch\\': 1723010277, \\'localtime\\': \\'2024-08-07 10:57\\'}, \\'current\\': {\\'last_updated_epoch\\': 1723009500, \\'last_updated\\': \\'2024-08-07 10:45\\', \\'temp_c\\': 30.0, \\'temp_f\\': 86.1, \\'is_day\\': 1, \\'condition\\': {\\'text\\': \\'Patchy rain nearby\\', \\'icon\\': \\'//cdn.weatherapi.com/weather/64x64/day/176.png\\', \\'code\\': 1063}, \\'wind_mph\\': 3.4, \\'wind_kph\\': 5.4, \\'wind_degree\\': 136, \\'wind_dir\\': \\'SE\\', \\'pressure_mb\\': 1002.0, \\'pressure_in\\': 29.59, \\'precip_mm\\': 0.24, \\'precip_in\\': 0.01, \\'humidity\\': 68, \\'cloud\\': 88, \\'feelslike_c\\': 34.7, \\'feelslike_f\\': 94.4, \\'windchill_c\\': 30.0, \\'windchill_f\\': 86.1, \\'heatindex_c\\': 34.7, \\'heatindex_f\\': 94.4, \\'dewpoint_c\\': 23.5, \\'dewpoint_f\\': 74.3, \\'vis_km\\': 9.0, \\'vis_miles\\': 5.0, \\'uv\\': 7.0, \\'gust_mph\\': 6.1, \\'gust_kph\\': 9.9}}\"}]')]}\n",
            "----\n",
            "{'agent_outcome': AgentFinish(return_values={'output': 'The current weather in Islamabad, Pakistan is 30°C with patchy rain nearby. The wind speed is 5.4 km/h coming from the southeast. The humidity is at 68%, and the visibility is 9.0 km.'}, log='The current weather in Islamabad, Pakistan is 30°C with patchy rain nearby. The wind speed is 5.4 km/h coming from the southeast. The humidity is at 68%, and the visibility is 9.0 km.')}\n",
            "----\n"
          ]
        }
      ]
    },
    {
      "cell_type": "markdown",
      "source": [
        "#Summary\n",
        " * This process allows you to create a custom agent executor using LangGraph, which is similar to LangChain.\n",
        " * Future videos will cover more details on the state graph interface and streaming results.\n",
        " * By following these steps, you can build and visualize the execution of a custom agent in LangGraph using LangSmith for observability.bold text\n",
        "\n",
        "\n"
      ],
      "metadata": {
        "id": "naHZi6FOVCUj"
      }
    },
    {
      "cell_type": "code",
      "source": [],
      "metadata": {
        "id": "jL4zWnxhV34_"
      },
      "execution_count": null,
      "outputs": []
    }
  ]
}