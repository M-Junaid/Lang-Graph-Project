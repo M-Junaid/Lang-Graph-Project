{
 "cells": [
  {
   "cell_type": "markdown",
   "metadata": {
    "id": "JYcpX1_9_9zO"
   },
   "source": [
    "# Overview\n",
    "Objective: Create a chat agent that responds in a specific format using OpenAI function calling. This agent is designed to act like a weatherman, returning a structured response with the temperature and other weather notes."
   ]
  },
  {
   "cell_type": "markdown",
   "metadata": {
    "id": "ru7RGHoFEXow"
   },
   "source": [
    "# 1. Set Up the State"
   ]
  },
  {
   "cell_type": "code",
   "execution_count": 1,
   "metadata": {
    "colab": {
     "base_uri": "https://localhost:8080/",
     "height": 0
    },
    "id": "qo-1T9PRExgv",
    "outputId": "cca43038-7072-4297-f650-63dee1d7d346"
   },
   "outputs": [
    {
     "name": "stdout",
     "output_type": "stream",
     "text": [
      "Requirement already satisfied: langgraph in /usr/local/lib/python3.10/dist-packages (0.2.15)\n",
      "Requirement already satisfied: langchain-core<0.3,>=0.2.27 in /usr/local/lib/python3.10/dist-packages (from langgraph) (0.2.37)\n",
      "Requirement already satisfied: langgraph-checkpoint<2.0.0,>=1.0.2 in /usr/local/lib/python3.10/dist-packages (from langgraph) (1.0.8)\n",
      "Requirement already satisfied: PyYAML>=5.3 in /usr/local/lib/python3.10/dist-packages (from langchain-core<0.3,>=0.2.27->langgraph) (6.0.2)\n",
      "Requirement already satisfied: jsonpatch<2.0,>=1.33 in /usr/local/lib/python3.10/dist-packages (from langchain-core<0.3,>=0.2.27->langgraph) (1.33)\n",
      "Requirement already satisfied: langsmith<0.2.0,>=0.1.75 in /usr/local/lib/python3.10/dist-packages (from langchain-core<0.3,>=0.2.27->langgraph) (0.1.108)\n",
      "Requirement already satisfied: packaging<25,>=23.2 in /usr/local/lib/python3.10/dist-packages (from langchain-core<0.3,>=0.2.27->langgraph) (24.1)\n",
      "Requirement already satisfied: pydantic<3,>=1 in /usr/local/lib/python3.10/dist-packages (from langchain-core<0.3,>=0.2.27->langgraph) (2.8.2)\n",
      "Requirement already satisfied: tenacity!=8.4.0,<9.0.0,>=8.1.0 in /usr/local/lib/python3.10/dist-packages (from langchain-core<0.3,>=0.2.27->langgraph) (8.5.0)\n",
      "Requirement already satisfied: typing-extensions>=4.7 in /usr/local/lib/python3.10/dist-packages (from langchain-core<0.3,>=0.2.27->langgraph) (4.12.2)\n",
      "Requirement already satisfied: jsonpointer>=1.9 in /usr/local/lib/python3.10/dist-packages (from jsonpatch<2.0,>=1.33->langchain-core<0.3,>=0.2.27->langgraph) (3.0.0)\n",
      "Requirement already satisfied: httpx<1,>=0.23.0 in /usr/local/lib/python3.10/dist-packages (from langsmith<0.2.0,>=0.1.75->langchain-core<0.3,>=0.2.27->langgraph) (0.27.2)\n",
      "Requirement already satisfied: orjson<4.0.0,>=3.9.14 in /usr/local/lib/python3.10/dist-packages (from langsmith<0.2.0,>=0.1.75->langchain-core<0.3,>=0.2.27->langgraph) (3.10.7)\n",
      "Requirement already satisfied: requests<3,>=2 in /usr/local/lib/python3.10/dist-packages (from langsmith<0.2.0,>=0.1.75->langchain-core<0.3,>=0.2.27->langgraph) (2.32.3)\n",
      "Requirement already satisfied: annotated-types>=0.4.0 in /usr/local/lib/python3.10/dist-packages (from pydantic<3,>=1->langchain-core<0.3,>=0.2.27->langgraph) (0.7.0)\n",
      "Requirement already satisfied: pydantic-core==2.20.1 in /usr/local/lib/python3.10/dist-packages (from pydantic<3,>=1->langchain-core<0.3,>=0.2.27->langgraph) (2.20.1)\n",
      "Requirement already satisfied: anyio in /usr/local/lib/python3.10/dist-packages (from httpx<1,>=0.23.0->langsmith<0.2.0,>=0.1.75->langchain-core<0.3,>=0.2.27->langgraph) (3.7.1)\n",
      "Requirement already satisfied: certifi in /usr/local/lib/python3.10/dist-packages (from httpx<1,>=0.23.0->langsmith<0.2.0,>=0.1.75->langchain-core<0.3,>=0.2.27->langgraph) (2024.7.4)\n",
      "Requirement already satisfied: httpcore==1.* in /usr/local/lib/python3.10/dist-packages (from httpx<1,>=0.23.0->langsmith<0.2.0,>=0.1.75->langchain-core<0.3,>=0.2.27->langgraph) (1.0.5)\n",
      "Requirement already satisfied: idna in /usr/local/lib/python3.10/dist-packages (from httpx<1,>=0.23.0->langsmith<0.2.0,>=0.1.75->langchain-core<0.3,>=0.2.27->langgraph) (3.8)\n",
      "Requirement already satisfied: sniffio in /usr/local/lib/python3.10/dist-packages (from httpx<1,>=0.23.0->langsmith<0.2.0,>=0.1.75->langchain-core<0.3,>=0.2.27->langgraph) (1.3.1)\n",
      "Requirement already satisfied: h11<0.15,>=0.13 in /usr/local/lib/python3.10/dist-packages (from httpcore==1.*->httpx<1,>=0.23.0->langsmith<0.2.0,>=0.1.75->langchain-core<0.3,>=0.2.27->langgraph) (0.14.0)\n",
      "Requirement already satisfied: charset-normalizer<4,>=2 in /usr/local/lib/python3.10/dist-packages (from requests<3,>=2->langsmith<0.2.0,>=0.1.75->langchain-core<0.3,>=0.2.27->langgraph) (3.3.2)\n",
      "Requirement already satisfied: urllib3<3,>=1.21.1 in /usr/local/lib/python3.10/dist-packages (from requests<3,>=2->langsmith<0.2.0,>=0.1.75->langchain-core<0.3,>=0.2.27->langgraph) (2.0.7)\n",
      "Requirement already satisfied: exceptiongroup in /usr/local/lib/python3.10/dist-packages (from anyio->httpx<1,>=0.23.0->langsmith<0.2.0,>=0.1.75->langchain-core<0.3,>=0.2.27->langgraph) (1.2.2)\n"
     ]
    }
   ],
   "source": [
    "!pip install langgraph"
   ]
  },
  {
   "cell_type": "markdown",
   "metadata": {
    "id": "NVOQCx-NZI3D"
   },
   "source": [
    "# Respond in a format\n",
    "In this example we will build a chat executor that responds in a specific format. We will do this by using OpenAI function calling. This is useful when you want to enforce that an agent's response is in a specific format. In this example, we will ask it respond as if a weatherman, so to return the temperature and then any other additional info.\n",
    "\n",
    "This examples builds off the base chat executor. It is highly recommended you learn about that executor before going through this notebook. You can find documentation for that example here.\n",
    "\n",
    "Any modifications of that example are called below with MODIFICATION, so if you are looking for the differences you can just search for that.\n",
    "\n"
   ]
  },
  {
   "cell_type": "markdown",
   "metadata": {
    "id": "p6ewTmJRFawC"
   },
   "source": [
    "# 1. Install Required Packages and Set API Keys"
   ]
  },
  {
   "cell_type": "code",
   "execution_count": 2,
   "metadata": {
    "id": "wAEAIhUkFb7L"
   },
   "outputs": [],
   "source": [
    "# Install the necessary packages required for running the notebook\n",
    "%%capture --no-stderr\n",
    "%pip install --quiet -U langgraph langchain langchain_openai tavily-python\n",
    "\n",
    "# Import modules to set environment variables for API keys\n",
    "import getpass\n",
    "import os\n",
    "\n",
    "# Set API keys for OpenAI (the LLM we will use) and Tavily (the search tool we will use)\n",
    "os.environ[\"OPENAI_API_KEY\"] = \"open api key\"\n",
    "os.environ[\"TAVILY_API_KEY\"] = \"tavily api key\"\n",
    "\n",
    "# Optionally, set API key for LangSmith tracing, which provides observability for debugging\n",
    "os.environ[\"LANGCHAIN_TRACING_V2\"] = \"true\"\n",
    "os.environ[\"LANGCHAIN_API_KEY\"] = \"lang smith api key\"\n"
   ]
  },
  {
   "cell_type": "markdown",
   "metadata": {
    "id": "w_zQvTl1XS98"
   },
   "source": [
    "# Set up the tools\n",
    "We will first define the tools we want to use. For this simple example, we will use a built-in search tool via Tavily. However, it is really easy to create your own tools - see documentation here on how to do that."
   ]
  },
  {
   "cell_type": "code",
   "execution_count": 3,
   "metadata": {
    "id": "E3wt0DOpXNj_"
   },
   "outputs": [],
   "source": [
    "from langchain_community.tools.tavily_search import TavilySearchResults\n",
    "\n",
    "tools = [TavilySearchResults(max_results=1)]"
   ]
  },
  {
   "cell_type": "markdown",
   "metadata": {
    "id": "0LC3lOZ_ejRV"
   },
   "source": [
    "We can now wrap these tools in a simple ToolExecutor. This is a real simple class that takes in a ToolInvocation and calls that tool, returning the output. A ToolInvocation is any class with tool and tool_input attribute."
   ]
  },
  {
   "cell_type": "code",
   "execution_count": 4,
   "metadata": {
    "colab": {
     "base_uri": "https://localhost:8080/",
     "height": 0
    },
    "id": "6E7hMfSGYZqc",
    "outputId": "66953680-32bf-4598-d228-e053eca43d28"
   },
   "outputs": [
    {
     "name": "stderr",
     "output_type": "stream",
     "text": [
      "<ipython-input-4-fdad03f5602e>:3: LangGraphDeprecationWarning: ToolExecutor is deprecated as of version 0.2.0 and will be removed in 0.3.0. Use langgraph.prebuilt.ToolNode instead.\n",
      "  tool_executor = ToolExecutor(tools)\n"
     ]
    }
   ],
   "source": [
    "from langgraph.prebuilt import ToolExecutor\n",
    "\n",
    "tool_executor = ToolExecutor(tools)"
   ]
  },
  {
   "cell_type": "markdown",
   "metadata": {
    "id": "xT34jX2cb3_a"
   },
   "source": [
    "# Set up the model\n",
    "Now we need to load the chat model we want to use. Importantly, this should satisfy two criteria:\n",
    "\n",
    "1. It should work with messages. We will represent all agent state in the form of messages, so it needs to be able to work well with them.\n",
    "2. It should work with OpenAI function calling. This means it should either be an OpenAI model or a model that exposes a similar interface.\n",
    "\n",
    "Note: these model requirements are not requirements for using LangGraph - they are just requirements for this one example."
   ]
  },
  {
   "cell_type": "code",
   "execution_count": 5,
   "metadata": {
    "id": "LCADlSBFX6V7"
   },
   "outputs": [],
   "source": [
    "from langchain_openai import ChatOpenAI\n",
    "\n",
    "# We will set streaming=True so that we can stream tokens\n",
    "# See the streaming section for more information on this.\n",
    "model = ChatOpenAI(temperature=0, streaming=True)"
   ]
  },
  {
   "cell_type": "markdown",
   "metadata": {
    "id": "V0yg7LbjcHZ8"
   },
   "source": [
    "After we've done this, we should make sure the model knows that it has these tools available to call. We can do this by converting the LangChain tools into the format for OpenAI function calling, and then bind them to the model class.\n",
    "\n",
    "**MODIFICATION**\n",
    "\n",
    "We also want to define a response schema for the language model and bind it to the model as a function as well"
   ]
  },
  {
   "cell_type": "code",
   "execution_count": 6,
   "metadata": {
    "id": "9t9w6GA9Ykp0"
   },
   "outputs": [],
   "source": [
    "from langchain_core.pydantic_v1 import BaseModel, Field\n",
    "\n",
    "\n",
    "class Response(BaseModel):\n",
    "    \"\"\"Final response to the user\"\"\"\n",
    "\n",
    "    temperature: float = Field(description=\"the temperature\")\n",
    "    other_notes: str = Field(description=\"any other notes about the weather\")\n",
    "\n",
    "\n",
    "model = model.bind_tools(tools + [Response])"
   ]
  },
  {
   "cell_type": "markdown",
   "metadata": {
    "id": "weKAguZOGLMd"
   },
   "source": [
    "# 6. Define the Agent State\n",
    "\n",
    "The main type of graph in langgraph is the StateGraph. This graph is parameterized by a state object that it passes around to each node. Each node then returns operations to update that state. These operations can either SET specific attributes on the state (e.g. overwrite the existing values) or ADD to the existing attribute. Whether to set or add is denoted by annotating the state object you construct the graph with.\n",
    "\n",
    "For this example, the state we will track will just be a list of messages. We want each node to just add messages to that list. Therefore, we will use a TypedDict with one key (messages) and annotate it so that the messages attribute is always added to."
   ]
  },
  {
   "cell_type": "code",
   "execution_count": 7,
   "metadata": {
    "id": "Z1crjA2kGOpa"
   },
   "outputs": [],
   "source": [
    "# Import necessary modules and types for defining the agent's state\n",
    "import operator\n",
    "from typing import Annotated, Sequence, TypedDict\n",
    "from langchain_core.messages import BaseMessage\n",
    "\n",
    "# Define the AgentState class to manage agent's conversation state\n",
    "class AgentState(TypedDict):\n",
    "    # Messages is a list that accumulates BaseMessages, updated using the 'add' operation\n",
    "    messages: Annotated[Sequence[BaseMessage], operator.add]\n"
   ]
  },
  {
   "cell_type": "markdown",
   "metadata": {
    "id": "u1QqgVxXGTt2"
   },
   "source": [
    "# 7. Define Nodes and Conditional Logic\n",
    "We now need to define a few different nodes in our graph. In langgraph, a node can be either a function or a runnable. There are two main nodes we need for this:\n",
    "\n",
    "1. The agent: responsible for deciding what (if any) actions to take.\n",
    "2. A function to invoke tools: if the agent decides to take an action, this node will then execute that action.\n",
    "\n",
    "We will also need to define some edges. Some of these edges may be conditional. The reason they are conditional is that based on the output of a node, one of several paths may be taken. The path that is taken is not known until that node is run (the LLM decides).\n",
    "\n",
    "1. Conditional Edge: after the agent is called, we should either: a. If the agent said to take an action, then the function to invoke tools should be called b. If the agent said that it was finished, then it should finish\n",
    "2. Normal Edge: after the tools are invoked, it should always go back to the agent to decide what to do next\n",
    "Let's define the nodes, as well as a function to decide how what conditional edge to take.\n",
    "\n",
    "**MODIFICATION**\n",
    "\n",
    "We will change the should_continue function to check what function was called. If the function Response was called - that is the function that is NOT a tool, but rather the formatted response, so we should NOT continue in that case."
   ]
  },
  {
   "cell_type": "code",
   "execution_count": 8,
   "metadata": {
    "id": "hvvJ8fsRGVGp"
   },
   "outputs": [],
   "source": [
    "# Import additional types and functions required for defining graph behavior\n",
    "from typing import Literal\n",
    "from langchain_core.messages import ToolMessage\n",
    "from langgraph.prebuilt import ToolInvocation\n",
    "\n",
    "# Define a function to determine whether to continue or end the process\n",
    "def should_continue(state) -> Literal[\"continue\", \"end\"]:\n",
    "    messages = state[\"messages\"]\n",
    "    last_message = messages[-1]\n",
    "    # Check if there was no function call; if so, end the process\n",
    "    if not last_message.tool_calls:\n",
    "        return \"end\"\n",
    "    # Check if the function call is of type 'Response'; if so, end the process\n",
    "    if last_message.tool_calls[0][\"name\"] == \"Response\":\n",
    "        return \"end\"\n",
    "    # Otherwise, continue the process\n",
    "    return \"continue\"\n",
    "\n",
    "# Define the function to call the language model\n",
    "def call_model(state):\n",
    "    messages = state[\"messages\"]\n",
    "    response = model.invoke(messages)\n",
    "    # Return the model's response to be added to the conversation state\n",
    "    return {\"messages\": [response]}\n",
    "\n",
    "# Define the function to execute tools based on tool calls\n",
    "def call_tool(state):\n",
    "    messages = state[\"messages\"]\n",
    "    last_message = messages[-1]\n",
    "    # Prepare tool invocations based on the tool calls in the last message\n",
    "    tool_invocations = [ToolInvocation(tool=tc[\"name\"], tool_input=tc[\"args\"]) for tc in last_message.tool_calls]\n",
    "    # Execute tools and obtain responses\n",
    "    responses = tool_executor.batch(tool_invocations, return_exceptions=True)\n",
    "    # Create tool messages based on responses and tool calls\n",
    "    tool_messages = [ToolMessage(content=str(response), name=tc[\"name\"], tool_call_id=tc[\"id\"]) for tc, response in zip(last_message.tool_calls, responses)]\n",
    "    # Return tool messages to be added to the conversation state\n",
    "    return {\"messages\": tool_messages}\n"
   ]
  },
  {
   "cell_type": "markdown",
   "metadata": {
    "id": "j6_5IC-4GcJ4"
   },
   "source": [
    "# 8. Define and Compile the StateGraph"
   ]
  },
  {
   "cell_type": "code",
   "execution_count": 9,
   "metadata": {
    "colab": {
     "base_uri": "https://localhost:8080/",
     "height": 255
    },
    "id": "VKcTEnDLGd3y",
    "outputId": "63ed3eae-8b27-4f7a-dfda-b5b3df299a9f"
   },
   "outputs": [
    {
     "data": {
      "image/jpeg": "[encoded data removed]",
      "text/plain": [
       "<IPython.core.display.Image object>"
      ]
     },
     "metadata": {},
     "output_type": "display_data"
    }
   ],
   "source": [
    "# Import required modules for defining and managing the state graph\n",
    "from langgraph.graph import END, StateGraph, START\n",
    "\n",
    "# Create a new StateGraph with the defined AgentState\n",
    "workflow = StateGraph(AgentState)\n",
    "\n",
    "# Add nodes to the graph: 'agent' node for calling the model and 'action' node for tool execution\n",
    "workflow.add_node(\"agent\", call_model)\n",
    "workflow.add_node(\"action\", call_tool)\n",
    "\n",
    "# Define the entry point for the graph as the 'agent' node\n",
    "workflow.add_edge(START, \"agent\")\n",
    "\n",
    "# Add a conditional edge to decide the next step based on `should_continue` function\n",
    "workflow.add_conditional_edges(\"agent\", should_continue, {\"continue\": \"action\", \"end\": END})\n",
    "\n",
    "# Add a normal edge from the 'action' node back to the 'agent' node\n",
    "workflow.add_edge(\"action\", \"agent\")\n",
    "\n",
    "# Compile the workflow into a runnable application\n",
    "app = workflow.compile()\n",
    "\n",
    "# Optionally, visualize the graph structure (requires additional dependencies)\n",
    "from IPython.display import Image, display\n",
    "try:\n",
    "    display(Image(app.get_graph(xray=True).draw_mermaid_png()))\n",
    "except Exception:\n",
    "    pass\n"
   ]
  },
  {
   "cell_type": "markdown",
   "metadata": {
    "id": "8XQ9dqxKGjwJ"
   },
   "source": [
    "# 9. Use the Compiled Application"
   ]
  },
  {
   "cell_type": "code",
   "execution_count": 10,
   "metadata": {
    "colab": {
     "base_uri": "https://localhost:8080/",
     "height": 0
    },
    "id": "6mwX9UXnGk6J",
    "outputId": "7e7b9624-2f4f-4ae7-ca20-a3eac269f1d6"
   },
   "outputs": [
    {
     "name": "stdout",
     "output_type": "stream",
     "text": [
      "Output from node 'agent':\n",
      "---\n",
      "content='' additional_kwargs={'tool_calls': [{'index': 0, 'id': 'call_q897gLNQSbLkukoI6ncQvYxY', 'function': {'arguments': '{\"query\":\"weather in Pakistan\"}', 'name': 'tavily_search_results_json'}, 'type': 'function'}]} response_metadata={'finish_reason': 'tool_calls', 'model_name': 'gpt-3.5-turbo-0125'} id='run-21b95faf-4f95-4560-b117-eb7c723a1030-0' tool_calls=[{'name': 'tavily_search_results_json', 'args': {'query': 'weather in Pakistan'}, 'id': 'call_q897gLNQSbLkukoI6ncQvYxY', 'type': 'tool_call'}]\n",
      "\n",
      "---\n",
      "\n"
     ]
    },
    {
     "name": "stderr",
     "output_type": "stream",
     "text": [
      "<ipython-input-8-d6bdc5b1ea78>:31: LangGraphDeprecationWarning: ToolInvocation is deprecated as of version 0.2.0 and will be removed in 0.3.0. Use langgraph.prebuilt.ToolNode instead.\n",
      "  tool_invocations = [ToolInvocation(tool=tc[\"name\"], tool_input=tc[\"args\"]) for tc in last_message.tool_calls]\n"
     ]
    },
    {
     "name": "stdout",
     "output_type": "stream",
     "text": [
      "Output from node 'action':\n",
      "---\n",
      "content='[{\\'url\\': \\'https://www.weatherapi.com/\\', \\'content\\': \"{\\'location\\': {\\'name\\': \\'Islamabad\\', \\'region\\': \\'Islamabad\\', \\'country\\': \\'Pakistan\\', \\'lat\\': 33.7, \\'lon\\': 73.17, \\'tz_id\\': \\'Asia/Karachi\\', \\'localtime_epoch\\': 1725108657, \\'localtime\\': \\'2024-08-31 17:50\\'}, \\'current\\': {\\'last_updated_epoch\\': 1725108300, \\'last_updated\\': \\'2024-08-31 17:45\\', \\'temp_c\\': 31.6, \\'temp_f\\': 88.9, \\'is_day\\': 1, \\'condition\\': {\\'text\\': \\'Sunny\\', \\'icon\\': \\'//cdn.weatherapi.com/weather/64x64/day/113.png\\', \\'code\\': 1000}, \\'wind_mph\\': 3.1, \\'wind_kph\\': 5.0, \\'wind_degree\\': 205, \\'wind_dir\\': \\'SSW\\', \\'pressure_mb\\': 1004.0, \\'pressure_in\\': 29.64, \\'precip_mm\\': 0.0, \\'precip_in\\': 0.0, \\'humidity\\': 55, \\'cloud\\': 11, \\'feelslike_c\\': 35.1, \\'feelslike_f\\': 95.2, \\'windchill_c\\': 31.6, \\'windchill_f\\': 88.9, \\'heatindex_c\\': 35.1, \\'heatindex_f\\': 95.2, \\'dewpoint_c\\': 21.3, \\'dewpoint_f\\': 70.4, \\'vis_km\\': 10.0, \\'vis_miles\\': 6.0, \\'uv\\': 8.0, \\'gust_mph\\': 3.6, \\'gust_kph\\': 5.8}}\"}]' name='tavily_search_results_json' tool_call_id='call_q897gLNQSbLkukoI6ncQvYxY'\n",
      "\n",
      "---\n",
      "\n",
      "Output from node 'agent':\n",
      "---\n",
      "content='' additional_kwargs={'tool_calls': [{'index': 0, 'id': 'call_wHVYFjJYOT4xssLnnnpGUBef', 'function': {'arguments': '{\"temperature\":31.6,\"other_notes\":\"The weather in Islamabad, Pakistan is currently sunny with a temperature of 31.6°C. The humidity is 55% and the wind speed is 5.0 km/h coming from the SSW direction.\"}', 'name': 'Response'}, 'type': 'function'}]} response_metadata={'finish_reason': 'tool_calls', 'model_name': 'gpt-3.5-turbo-0125'} id='run-354cd6ab-bb44-4483-bf0f-76355df12c2e-0' tool_calls=[{'name': 'Response', 'args': {'temperature': 31.6, 'other_notes': 'The weather in Islamabad, Pakistan is currently sunny with a temperature of 31.6°C. The humidity is 55% and the wind speed is 5.0 km/h coming from the SSW direction.'}, 'id': 'call_wHVYFjJYOT4xssLnnnpGUBef', 'type': 'tool_call'}]\n",
      "\n",
      "---\n",
      "\n"
     ]
    }
   ],
   "source": [
    "# Import necessary module for creating messages\n",
    "from langchain_core.messages import HumanMessage\n",
    "\n",
    "# Define input messages to start the conversation with the agent\n",
    "inputs = {\"messages\": [HumanMessage(content=\"what is the weather in pakistan\")]}\n",
    "\n",
    "# Stream the output of the compiled application step-by-step\n",
    "for output in app.stream(inputs):\n",
    "    # Print each output message from the different nodes\n",
    "    for key, value in output.items():\n",
    "        print(f\"Output from node '{key}':\")\n",
    "        print(\"---\")\n",
    "        print(value[\"messages\"][-1])\n",
    "    print(\"\\n---\\n\")\n"
   ]
  }
 ],
 "metadata": {
  "colab": {
   "provenance": []
  },
  "kernelspec": {
   "display_name": "Python 3 (ipykernel)",
   "language": "python",
   "name": "python3"
  },
  "language_info": {
   "codemirror_mode": {
    "name": "ipython",
    "version": 3
   },
   "file_extension": ".py",
   "mimetype": "text/x-python",
   "name": "python",
   "nbconvert_exporter": "python",
   "pygments_lexer": "ipython3",
   "version": "3.11.4"
  }
 },
 "nbformat": 4,
 "nbformat_minor": 4
}
