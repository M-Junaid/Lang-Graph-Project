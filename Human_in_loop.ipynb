{
  "nbformat": 4,
  "nbformat_minor": 0,
  "metadata": {
    "colab": {
      "provenance": []
    },
    "kernelspec": {
      "name": "python3",
      "display_name": "Python 3"
    },
    "language_info": {
      "name": "python"
    }
  },
  "cells": [
    {
      "cell_type": "markdown",
      "source": [
        "**This code example creates a chatbot-like agent that involves a human in decision-making during the conversation.**\n",
        "# . Introduction:\n",
        "* Human-in-the-loop: This means that a human can approve or reject certain actions the chatbot wants to take, making the human a part of the decision-making process.\n",
        "* ReAct Agent: A chatbot that can interact with tools (like searching the web) to respond to queries.\n",
        "*Chat Executor: The base framework the chatbot operates within, where it processes inputs, decides on actions, and responds."
      ],
      "metadata": {
        "id": "aXkyt6sAqNLI"
      }
    },
    {
      "cell_type": "markdown",
      "source": [
        "# Step 1: Install Necessary Packages\n",
        "* This step installs the necessary Python packages: langgraph, langchain_community, langchain_openai, and tavily-python. These packages are essential for building the chatbot, integrating it with OpenAI, and using the Tavily search tool.\n"
      ],
      "metadata": {
        "id": "yoEZUssxrNgt"
      }
    },
    {
      "cell_type": "code",
      "execution_count": 90,
      "metadata": {
        "id": "4i0U5SSirxV-"
      },
      "outputs": [],
      "source": [
        "%%capture --no-stderr\n",
        "%pip install --quiet -U langgraph langchain_community langchain_openai tavily-python"
      ]
    },
    {
      "cell_type": "markdown",
      "source": [
        "# Step 2: Set Up API Keys\n",
        " * In this step, we set up API keys for OpenAI and Tavily. The getpass.getpass function is used to securely input the API keys. These keys allow the chatbot to access OpenAI's language models and Tavily's search tool."
      ],
      "metadata": {
        "id": "kNyWPshQrmLb"
      }
    },
    {
      "cell_type": "code",
      "source": [
        "import getpass\n",
        "import os\n",
        "\n",
        "os.environ[\"OPENAI_API_KEY\"] = \"\"\n",
        "os.environ[\"TAVILY_API_KEY\"] = \"\""
      ],
      "metadata": {
        "id": "-NAsvoQmtn0w"
      },
      "execution_count": 91,
      "outputs": []
    },
    {
      "cell_type": "markdown",
      "source": [
        "# Step 3: Set Up LangSmith API Key (Optional)\n",
        "* This optional step sets up API keys for LangSmith tracing. This feature provides detailed observability and tracking for the chatbot's operations, helping in debugging and improving the bot's performance."
      ],
      "metadata": {
        "id": "aAf6s0Vq-TDW"
      }
    },
    {
      "cell_type": "code",
      "source": [
        "os.environ[\"LANGCHAIN_API_KEY\"] = \"\"\n",
        "os.environ[\"LANGCHAIN_TRACING_V2\"]=\"true\"\n",
        "os.environ[\"LANGCHAIN_PROJECT\"]=\"CourseLanggraph\""
      ],
      "metadata": {
        "id": "sBoknGV2yuGO"
      },
      "execution_count": 92,
      "outputs": []
    },
    {
      "cell_type": "markdown",
      "source": [
        "# Step 4: Define Tools\n",
        "* Here, we define the tools the chatbot will use. Specifically, we import the Tavily search tool and configure it to return a maximum of one result. These tools enable the chatbot to perform searches on the web."
      ],
      "metadata": {
        "id": "65o55srMsLs9"
      }
    },
    {
      "cell_type": "code",
      "source": [
        "from langchain_community.tools.tavily_search import TavilySearchResults\n",
        "\n",
        "tools = [TavilySearchResults(max_results=1)]"
      ],
      "metadata": {
        "id": "XnRq8lEdy8uu"
      },
      "execution_count": 93,
      "outputs": []
    },
    {
      "cell_type": "markdown",
      "source": [
        "# Step 5: Initialize ToolExecutor\n",
        "* his step initializes a ToolExecutor, a simple class that takes in a ToolInvocation and calls the corresponding tool. The ToolExecutor uses the tools we defined earlier to perform actions based on the chatbot's needs."
      ],
      "metadata": {
        "id": "S_xUx8jh-xo_"
      }
    },
    {
      "cell_type": "code",
      "source": [
        "from langgraph.prebuilt import ToolExecutor\n",
        "\n",
        "tool_executor = ToolExecutor(tools)"
      ],
      "metadata": {
        "colab": {
          "base_uri": "https://localhost:8080/"
        },
        "id": "urVMkknyy9li",
        "outputId": "1e09730e-47b1-432f-ba0b-a3904f48d4e8"
      },
      "execution_count": 94,
      "outputs": [
        {
          "output_type": "stream",
          "name": "stderr",
          "text": [
            "<ipython-input-94-fdad03f5602e>:3: LangGraphDeprecationWarning: ToolExecutor is deprecated as of version 0.2.0 and will be removed in 0.3.0. Use langgraph.prebuilt.ToolNode instead.\n",
            "  tool_executor = ToolExecutor(tools)\n"
          ]
        }
      ]
    },
    {
      "cell_type": "code",
      "source": [],
      "metadata": {
        "id": "ntZ7Rbk0tPbw"
      },
      "execution_count": null,
      "outputs": []
    },
    {
      "cell_type": "markdown",
      "source": [
        "# 4. Set Up the Model:\n",
        "* Chat Model: You load a chat model from OpenAI that can handle message-based interactions and use OpenAI’s function-calling feature. This is important because the chatbot will interact with external tools like Tavily.\n",
        "* Binding Tools to the Model: The tools are made available to the model so that it knows how to call them when needed."
      ],
      "metadata": {
        "id": "HBgCPny3tTIv"
      }
    },
    {
      "cell_type": "markdown",
      "source": [
        "# Step 6: Load OpenAI Model\n",
        "* In this step, we load the OpenAI chat model that will power the chatbot. The model is set to stream responses token by token, making it more responsive. This model will interact with users and decide the actions the chatbot should take."
      ],
      "metadata": {
        "id": "gB-YSQHS_CBO"
      }
    },
    {
      "cell_type": "code",
      "source": [
        "from langchain_openai import ChatOpenAI\n",
        "\n",
        "# We will set streaming=True so that we can stream tokens\n",
        "# See the streaming section for more information on this.\n",
        "model = ChatOpenAI(temperature=0, streaming=True)"
      ],
      "metadata": {
        "id": "JylDtk2nD8cE"
      },
      "execution_count": 95,
      "outputs": []
    },
    {
      "cell_type": "markdown",
      "source": [
        "# Step 7: Bind Tools to Model\n",
        "* This step binds the previously defined tools (like Tavily search) to the OpenAI model. This allows the model to call these tools as part of its decision-making process."
      ],
      "metadata": {
        "id": "pb-p4ySe_cqo"
      }
    },
    {
      "cell_type": "code",
      "source": [
        "model = model.bind_tools(tools)"
      ],
      "metadata": {
        "id": "Xm8Z65ShD_ff"
      },
      "execution_count": 96,
      "outputs": []
    },
    {
      "cell_type": "markdown",
      "source": [
        "# 8. Define the Agent State:\n",
        "* This step defines the state the chatbot will track. The state is represented as a list of messages, and each new message will be added to this list. This helps in keeping track of the conversation and decisions made by the chatbot.\n",
        "\n"
      ],
      "metadata": {
        "id": "NaLnhGOVvE96"
      }
    },
    {
      "cell_type": "code",
      "source": [
        "import operator\n",
        "from typing import Annotated, Sequence, TypedDict\n",
        "\n",
        "from langchain_core.messages import BaseMessage\n",
        "\n",
        "\n",
        "class AgentState(TypedDict):\n",
        "    messages: Annotated[Sequence[BaseMessage], operator.add]"
      ],
      "metadata": {
        "id": "ENzAVrEEEMPg"
      },
      "execution_count": 97,
      "outputs": []
    },
    {
      "cell_type": "markdown",
      "source": [
        "# Step 9: Define Core Functions\n",
        " This step defines key functions for the chatbot's operation:\n",
        "\n",
        "* should_continue(state): Determines whether the chatbot should continue with the next action or stop.\n",
        "* call_model(state): Calls the chat model with the current state and adds the response to the list of messages.\n",
        "\n",
        "\n",
        "These functions are essential for guiding the chatbot's behavior based on user input and model responses.\n",
        "\n"
      ],
      "metadata": {
        "id": "B5yrZiC6vWFZ"
      }
    },
    {
      "cell_type": "code",
      "source": [
        "from langchain_core.messages import ToolMessage\n",
        "\n",
        "from langgraph.prebuilt import ToolInvocation\n",
        "\n",
        "\n",
        "# Define the function that determines whether to continue or not\n",
        "def should_continue(state):\n",
        "    messages = state[\"messages\"]\n",
        "    last_message = messages[-1]\n",
        "    # If there is no function call, then we finish\n",
        "    if not last_message.tool_calls:\n",
        "        return \"end\"\n",
        "    # Otherwise if there is, we continue\n",
        "    else:\n",
        "        return \"continue\"\n",
        "\n",
        "\n",
        "# Define the function that calls the model\n",
        "def call_model(state):\n",
        "    messages = state[\"messages\"]\n",
        "    response = model.invoke(messages)\n",
        "    # We return a list, because this will get added to the existing list\n",
        "    return {\"messages\": [response]}"
      ],
      "metadata": {
        "id": "wDY2slAaEhZ6"
      },
      "execution_count": 98,
      "outputs": []
    },
    {
      "cell_type": "markdown",
      "source": [
        "# Step 10: Handle Tool Execution\n",
        "* In this step, the chatbot handles the execution of tools when it decides to take action. It processes the tool invocations and adds the tool responses to the list of messages. This step allows the chatbot to perform tasks like web searches.\n"
      ],
      "metadata": {
        "id": "EC4SDpHQA_HA"
      }
    },
    {
      "cell_type": "code",
      "source": [
        "# Define the function to execute tools\n",
        "def call_tool(state):\n",
        "    messages = state[\"messages\"]\n",
        "    # Based on the continue condition\n",
        "    # we know the last message involves a function call\n",
        "    last_message = messages[-1]\n",
        "    # We construct an ToolInvocation for each tool call\n",
        "    tool_invocations = []\n",
        "    for tool_call in last_message.tool_calls:\n",
        "        action = ToolInvocation(\n",
        "            tool=tool_call[\"name\"],\n",
        "            tool_input=tool_call[\"args\"],\n",
        "        )\n",
        "        tool_invocations.append(action)\n",
        "\n",
        "    action = ToolInvocation(\n",
        "        tool=tool_call[\"name\"],\n",
        "        tool_input=tool_call[\"args\"],\n",
        "    )\n",
        "    # We call the tool_executor and get back a response\n",
        "    responses = tool_executor.batch(tool_invocations, return_exceptions=True)\n",
        "    # We use the response to create tool messages\n",
        "    tool_messages = [\n",
        "        ToolMessage(\n",
        "            content=str(response),\n",
        "            name=tc[\"name\"],\n",
        "            tool_call_id=tc[\"id\"],\n",
        "        )\n",
        "        for tc, response in zip(last_message.tool_calls, responses)\n",
        "    ]\n",
        "\n",
        "    # We return a list, because this will get added to the existing list\n",
        "    return {\"messages\": tool_messages}"
      ],
      "metadata": {
        "id": "FdJqz3YEEiH-"
      },
      "execution_count": 99,
      "outputs": []
    },
    {
      "cell_type": "markdown",
      "source": [
        "# Step 11: Define Workflow\n",
        "* This step defines the overall workflow or graph that the chatbot will follow. The chatbot starts by calling the agent node (which invokes the model) and then decides whether to continue or stop. If it continues, it moves to the action node (which calls the tools). The process repeats until the chatbot decides to stop."
      ],
      "metadata": {
        "id": "7-Fn-7RgCI7R"
      }
    },
    {
      "cell_type": "code",
      "source": [
        "from langgraph.checkpoint.memory import MemorySaver\n",
        "from langgraph.graph import END, StateGraph, START\n",
        "\n",
        "# Define a new graph\n",
        "workflow = StateGraph(AgentState)\n",
        "\n",
        "# Define the two nodes we will cycle between\n",
        "workflow.add_node(\"agent\", call_model)\n",
        "workflow.add_node(\"action\", call_tool)\n",
        "\n",
        "# Set the entrypoint as `agent`\n",
        "# This means that this node is the first one called\n",
        "workflow.add_edge(START, \"agent\")\n",
        "\n",
        "# We now add a conditional edge\n",
        "workflow.add_conditional_edges(\n",
        "    # First, we define the start node. We use `agent`.\n",
        "    # This means these are the edges taken after the `agent` node is called.\n",
        "    \"agent\",\n",
        "    # Next, we pass in the function that will determine which node is called next.\n",
        "    should_continue,\n",
        "    # Finally we pass in a mapping.\n",
        "    # The keys are strings, and the values are other nodes.\n",
        "    # END is a special node marking that the graph should finish.\n",
        "    # What will happen is we will call `should_continue`, and then the output of that\n",
        "    # will be matched against the keys in this mapping.\n",
        "    # Based on which one it matches, that node will then be called.\n",
        "    {\n",
        "        # If `tools`, then we call the tool node.\n",
        "        \"continue\": \"action\",\n",
        "        # Otherwise we finish.\n",
        "        \"end\": END,\n",
        "    },\n",
        ")\n",
        "\n",
        "# We now add a normal edge from `tools` to `agent`.\n",
        "# This means that after `tools` is called, `agent` node is called next.\n",
        "workflow.add_edge(\"action\", \"agent\")\n",
        "\n",
        "# Finally, we compile it!\n",
        "# This compiles it into a LangChain Runnable,\n",
        "# meaning you can use it as you would any other runnable\n",
        "app = workflow.compile(checkpointer=MemorySaver(), interrupt_before=[\"action\"])"
      ],
      "metadata": {
        "id": "oqPQb7vcEnZ3"
      },
      "execution_count": 100,
      "outputs": []
    },
    {
      "cell_type": "markdown",
      "source": [
        "# Step 12: Visualize Workflow\n",
        "* This optional step generates and displays a visual representation of the chatbot's workflow. It helps in understanding how the different nodes and edges are connected in the chatbot's decision-making process.\n",
        "\n"
      ],
      "metadata": {
        "id": "zWuWmldtChVa"
      }
    },
    {
      "cell_type": "code",
      "source": [
        "from IPython.display import Image, display\n",
        "\n",
        "try:\n",
        "    display(Image(app.get_graph(xray=True).draw_mermaid_png()))\n",
        "except Exception:\n",
        "    # This requires some extra dependencies and is optional\n",
        "    pass"
      ],
      "metadata": {
        "colab": {
          "base_uri": "https://localhost:8080/",
          "height": 292
        },
        "id": "yiw10oORJu10",
        "outputId": "8aaf7173-2067-43b7-9deb-669ad18e6de6"
      },
      "execution_count": 101,
      "outputs": [
        {
          "output_type": "display_data",
          "data": {
            "image/jpeg": "[encoded data removed]",
            "text/plain": [
              "<IPython.core.display.Image object>"
            ]
          },
          "metadata": {}
        }
      ]
    },
    {
      "cell_type": "markdown",
      "source": [
        "# Step 13: Execute Chatbot\n",
        "* In this final step, the chatbot is executed, starting with an initial user input (\"what is the weather in Pakistan\"). The chatbot processes the input, calls the necessary tools, and asks for human approval before proceeding to the next step. The loop continues until the human decides to stop."
      ],
      "metadata": {
        "id": "tCuCeZ7nDAyn"
      }
    },
    {
      "cell_type": "code",
      "source": [
        "from langchain_core.messages import HumanMessage\n",
        "\n",
        "inputs = {\"messages\": [HumanMessage(content=\"what is the weather in pakistan\")]}\n",
        "config = {\"configurable\": {\"thread_id\": \"thread-1\"}}\n",
        "while True:\n",
        "    for output in app.stream(inputs, config):\n",
        "        # stream() yields dictionaries with output keyed by node name\n",
        "        for key, value in output.items():\n",
        "            print(f\"Output from node '{key}':\")\n",
        "            print(\"---\")\n",
        "            print(value)\n",
        "        print(\"\\n---\\n\")\n",
        "    snapshot = app.get_state(config)\n",
        "    # If \"next\" is present, it means we've interrupted mid-execution\n",
        "    if not snapshot.next:\n",
        "        break\n",
        "    inputs = None\n",
        "    response = input(\n",
        "        \"Do you approve the next step? Type y if you do, anything else to stop: \"\n",
        "    )\n",
        "    if response != \"y\":\n",
        "        break"
      ],
      "metadata": {
        "colab": {
          "base_uri": "https://localhost:8080/"
        },
        "id": "zLS7wXAoJ5Zk",
        "outputId": "ff083f33-e6ba-4b82-c0ff-c8b69ee1ac08"
      },
      "execution_count": 103,
      "outputs": [
        {
          "output_type": "stream",
          "name": "stderr",
          "text": [
            "WARNING:langsmith.client:Failed to batch ingest runs: LangSmithError('Failed to POST https://api.smith.langchain.com/runs/batch in LangSmith API. HTTPError(\\'403 Client Error: Forbidden for url: https://api.smith.langchain.com/runs/batch\\', \\'{\"detail\":\"Forbidden\"}\\')')\n"
          ]
        },
        {
          "output_type": "stream",
          "name": "stdout",
          "text": [
            "Output from node 'agent':\n",
            "---\n",
            "{'messages': [AIMessage(content='', additional_kwargs={'tool_calls': [{'index': 0, 'id': 'call_rfonN1upPcum2ZEbLKnc8jv0', 'function': {'arguments': '{\"query\":\"weather in Pakistan\"}', 'name': 'tavily_search_results_json'}, 'type': 'function'}]}, response_metadata={'finish_reason': 'tool_calls', 'model_name': 'gpt-3.5-turbo-0125'}, id='run-160a4bba-159c-4cee-8fb1-ee131e37f02c-0', tool_calls=[{'name': 'tavily_search_results_json', 'args': {'query': 'weather in Pakistan'}, 'id': 'call_rfonN1upPcum2ZEbLKnc8jv0', 'type': 'tool_call'}])]}\n",
            "\n",
            "---\n",
            "\n"
          ]
        },
        {
          "output_type": "stream",
          "name": "stderr",
          "text": [
            "WARNING:langsmith.client:Failed to batch ingest runs: LangSmithError('Failed to POST https://api.smith.langchain.com/runs/batch in LangSmith API. HTTPError(\\'403 Client Error: Forbidden for url: https://api.smith.langchain.com/runs/batch\\', \\'{\"detail\":\"Forbidden\"}\\')')\n"
          ]
        },
        {
          "name": "stdout",
          "output_type": "stream",
          "text": [
            "Do you approve the next step? Type y if you do, anything else to stop: y\n"
          ]
        },
        {
          "output_type": "stream",
          "name": "stderr",
          "text": [
            "<ipython-input-99-203961b373f3>:10: LangGraphDeprecationWarning: ToolInvocation is deprecated as of version 0.2.0 and will be removed in 0.3.0. Use langgraph.prebuilt.ToolNode instead.\n",
            "  action = ToolInvocation(\n",
            "<ipython-input-99-203961b373f3>:16: LangGraphDeprecationWarning: ToolInvocation is deprecated as of version 0.2.0 and will be removed in 0.3.0. Use langgraph.prebuilt.ToolNode instead.\n",
            "  action = ToolInvocation(\n",
            "WARNING:langsmith.client:Failed to batch ingest runs: LangSmithError('Failed to POST https://api.smith.langchain.com/runs/batch in LangSmith API. HTTPError(\\'403 Client Error: Forbidden for url: https://api.smith.langchain.com/runs/batch\\', \\'{\"detail\":\"Forbidden\"}\\')')\n",
            "WARNING:langsmith.client:Failed to batch ingest runs: LangSmithError('Failed to POST https://api.smith.langchain.com/runs/batch in LangSmith API. HTTPError(\\'403 Client Error: Forbidden for url: https://api.smith.langchain.com/runs/batch\\', \\'{\"detail\":\"Forbidden\"}\\')')\n"
          ]
        },
        {
          "output_type": "stream",
          "name": "stdout",
          "text": [
            "Output from node 'action':\n",
            "---\n",
            "{'messages': [ToolMessage(content='[{\\'url\\': \\'https://www.weatherapi.com/\\', \\'content\\': \"{\\'location\\': {\\'name\\': \\'Islamabad\\', \\'region\\': \\'Islamabad\\', \\'country\\': \\'Pakistan\\', \\'lat\\': 33.7, \\'lon\\': 73.17, \\'tz_id\\': \\'Asia/Karachi\\', \\'localtime_epoch\\': 1724586418, \\'localtime\\': \\'2024-08-25 16:46\\'}, \\'current\\': {\\'last_updated_epoch\\': 1724586300, \\'last_updated\\': \\'2024-08-25 16:45\\', \\'temp_c\\': 33.9, \\'temp_f\\': 93.1, \\'is_day\\': 1, \\'condition\\': {\\'text\\': \\'Sunny\\', \\'icon\\': \\'//cdn.weatherapi.com/weather/64x64/day/113.png\\', \\'code\\': 1000}, \\'wind_mph\\': 2.7, \\'wind_kph\\': 4.3, \\'wind_degree\\': 270, \\'wind_dir\\': \\'W\\', \\'pressure_mb\\': 1001.0, \\'pressure_in\\': 29.55, \\'precip_mm\\': 0.0, \\'precip_in\\': 0.0, \\'humidity\\': 47, \\'cloud\\': 13, \\'feelslike_c\\': 37.9, \\'feelslike_f\\': 100.2, \\'windchill_c\\': 33.9, \\'windchill_f\\': 93.1, \\'heatindex_c\\': 37.9, \\'heatindex_f\\': 100.2, \\'dewpoint_c\\': 21.0, \\'dewpoint_f\\': 69.8, \\'vis_km\\': 10.0, \\'vis_miles\\': 6.0, \\'uv\\': 8.0, \\'gust_mph\\': 3.1, \\'gust_kph\\': 5.0}}\"}]', name='tavily_search_results_json', tool_call_id='call_rfonN1upPcum2ZEbLKnc8jv0')]}\n",
            "\n",
            "---\n",
            "\n",
            "Output from node 'agent':\n",
            "---\n",
            "{'messages': [AIMessage(content='The current weather in Islamabad, Pakistan is as follows:\\n- Temperature: 93.1°F (33.9°C)\\n- Condition: Sunny\\n- Wind: 4.3 km/h from the West\\n- Humidity: 47%\\n- Pressure: 29.55 in\\n- Visibility: 6.0 miles\\n\\nFor more details, you can visit [Weather API](https://www.weatherapi.com/).', response_metadata={'finish_reason': 'stop', 'model_name': 'gpt-3.5-turbo-0125'}, id='run-9131328f-362b-49aa-9687-f4ece85eb073-0')]}\n",
            "\n",
            "---\n",
            "\n"
          ]
        }
      ]
    },
    {
      "cell_type": "code",
      "source": [],
      "metadata": {
        "id": "5NHXdDIBLKJ8"
      },
      "execution_count": null,
      "outputs": []
    }
  ]
}